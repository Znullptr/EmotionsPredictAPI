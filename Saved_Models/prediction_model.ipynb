{
 "cells": [
  {
   "cell_type": "code",
   "execution_count": 1,
   "metadata": {
    "pycharm": {
     "name": "#%%\n"
    }
   },
   "outputs": [],
   "source": [
    "from keras import Sequential\n",
    "import pandas as pd\n",
    "from imblearn.over_sampling import SMOTE\n",
    "from collections import Counter\n",
    "from sklearn.preprocessing import LabelEncoder\n",
    "import matplotlib.pyplot as plt\n",
    "from sklearn.svm import SVC\n",
    "from sklearn.model_selection import train_test_split\n",
    "from sklearn.metrics import confusion_matrix\n",
    "import  seaborn as sns\n",
    "import librosa\n",
    "from sklearn.preprocessing import StandardScaler\n",
    "import os\n",
    "from sklearn.metrics import accuracy_score\n",
    "from sklearn.model_selection import GridSearchCV\n",
    "import numpy as np\n",
    "from keras.utils import to_categorical\n",
    "from keras.layers import Conv1D, MaxPooling1D, Dropout, Flatten, Dense\n",
    "from keras.layers import BatchNormalization\n",
    "import joblib"
   ]
  },
  {
   "cell_type": "code",
   "execution_count": 2,
   "metadata": {
    "pycharm": {
     "name": "#%%\n"
    }
   },
   "outputs": [
    {
     "data": {
      "text/plain": [
       "['Actor_01', 'Actor_02', 'Actor_03', 'Actor_04', 'Actor_05']"
      ]
     },
     "execution_count": 2,
     "metadata": {},
     "output_type": "execute_result"
    }
   ],
   "source": [
    "# CREATE DIRECTORY OF AUDIO FILES\n",
    "audio = 'C:/Users/tahar/Documents/emotions_predict_project/audio/audio_speech_actors_01-24/'\n",
    "actor_folders = os.listdir(audio) #list files in audio directory\n",
    "actor_folders[0:5]"
   ]
  },
  {
   "cell_type": "code",
   "execution_count": 3,
   "metadata": {
    "pycharm": {
     "name": "#%%\n"
    }
   },
   "outputs": [],
   "source": [
    "# CREATE FUNCTION TO EXTRACT EMOTION NUMBER, ACTOR AND GENDER LABEL\n",
    "emotion = []\n",
    "gender = []\n",
    "file_path = []\n",
    "# Each of the 1440 files has a unique filename. The filename consists of a 7-part numerical identifier (e.g., 03-01-06-01-02-01-12.wav). These identifiers define the stimulus characteristics:\n",
    "for i in actor_folders:\n",
    "    filename = os.listdir(audio + i) #iterate over Actor folders\n",
    "    for f in filename: # go through files in Actor folder\n",
    "        part = f.split('.')[0].split('-')\n",
    "        emotion.append(int(part[2])) # Emotion (01 = neutral, 02 = calm, 03 = happy, 04 = sad, 05 = angry, 06 = fearful, 07 = disgust, 08 = surprised\n",
    "        bg = int(part[6])\n",
    "        if bg%2 == 0:\n",
    "            bg = \"female\"\n",
    "        else:\n",
    "            bg = \"male\"\n",
    "        gender.append(bg) # Odd numbered actors are male, even numbered actors are female\n",
    "        file_path.append(audio + i + '/' + f)"
   ]
  },
  {
   "cell_type": "code",
   "execution_count": 4,
   "metadata": {
    "pycharm": {
     "name": "#%%\n"
    }
   },
   "outputs": [
    {
     "data": {
      "text/html": [
       "<div>\n",
       "<style scoped>\n",
       "    .dataframe tbody tr th:only-of-type {\n",
       "        vertical-align: middle;\n",
       "    }\n",
       "\n",
       "    .dataframe tbody tr th {\n",
       "        vertical-align: top;\n",
       "    }\n",
       "\n",
       "    .dataframe thead th {\n",
       "        text-align: right;\n",
       "    }\n",
       "</style>\n",
       "<table border=\"1\" class=\"dataframe\">\n",
       "  <thead>\n",
       "    <tr style=\"text-align: right;\">\n",
       "      <th></th>\n",
       "      <th>gender</th>\n",
       "      <th>emotion</th>\n",
       "      <th>path</th>\n",
       "    </tr>\n",
       "  </thead>\n",
       "  <tbody>\n",
       "    <tr>\n",
       "      <th>0</th>\n",
       "      <td>male</td>\n",
       "      <td>neutral</td>\n",
       "      <td>C:/Users/tahar/Documents/emotions_predict_proj...</td>\n",
       "    </tr>\n",
       "    <tr>\n",
       "      <th>1</th>\n",
       "      <td>male</td>\n",
       "      <td>neutral</td>\n",
       "      <td>C:/Users/tahar/Documents/emotions_predict_proj...</td>\n",
       "    </tr>\n",
       "    <tr>\n",
       "      <th>2</th>\n",
       "      <td>male</td>\n",
       "      <td>neutral</td>\n",
       "      <td>C:/Users/tahar/Documents/emotions_predict_proj...</td>\n",
       "    </tr>\n",
       "    <tr>\n",
       "      <th>3</th>\n",
       "      <td>male</td>\n",
       "      <td>neutral</td>\n",
       "      <td>C:/Users/tahar/Documents/emotions_predict_proj...</td>\n",
       "    </tr>\n",
       "    <tr>\n",
       "      <th>4</th>\n",
       "      <td>male</td>\n",
       "      <td>calm</td>\n",
       "      <td>C:/Users/tahar/Documents/emotions_predict_proj...</td>\n",
       "    </tr>\n",
       "    <tr>\n",
       "      <th>...</th>\n",
       "      <td>...</td>\n",
       "      <td>...</td>\n",
       "      <td>...</td>\n",
       "    </tr>\n",
       "    <tr>\n",
       "      <th>1435</th>\n",
       "      <td>female</td>\n",
       "      <td>surprise</td>\n",
       "      <td>C:/Users/tahar/Documents/emotions_predict_proj...</td>\n",
       "    </tr>\n",
       "    <tr>\n",
       "      <th>1436</th>\n",
       "      <td>female</td>\n",
       "      <td>surprise</td>\n",
       "      <td>C:/Users/tahar/Documents/emotions_predict_proj...</td>\n",
       "    </tr>\n",
       "    <tr>\n",
       "      <th>1437</th>\n",
       "      <td>female</td>\n",
       "      <td>surprise</td>\n",
       "      <td>C:/Users/tahar/Documents/emotions_predict_proj...</td>\n",
       "    </tr>\n",
       "    <tr>\n",
       "      <th>1438</th>\n",
       "      <td>female</td>\n",
       "      <td>surprise</td>\n",
       "      <td>C:/Users/tahar/Documents/emotions_predict_proj...</td>\n",
       "    </tr>\n",
       "    <tr>\n",
       "      <th>1439</th>\n",
       "      <td>female</td>\n",
       "      <td>surprise</td>\n",
       "      <td>C:/Users/tahar/Documents/emotions_predict_proj...</td>\n",
       "    </tr>\n",
       "  </tbody>\n",
       "</table>\n",
       "<p>1440 rows × 3 columns</p>\n",
       "</div>"
      ],
      "text/plain": [
       "      gender   emotion                                               path\n",
       "0       male   neutral  C:/Users/tahar/Documents/emotions_predict_proj...\n",
       "1       male   neutral  C:/Users/tahar/Documents/emotions_predict_proj...\n",
       "2       male   neutral  C:/Users/tahar/Documents/emotions_predict_proj...\n",
       "3       male   neutral  C:/Users/tahar/Documents/emotions_predict_proj...\n",
       "4       male      calm  C:/Users/tahar/Documents/emotions_predict_proj...\n",
       "...      ...       ...                                                ...\n",
       "1435  female  surprise  C:/Users/tahar/Documents/emotions_predict_proj...\n",
       "1436  female  surprise  C:/Users/tahar/Documents/emotions_predict_proj...\n",
       "1437  female  surprise  C:/Users/tahar/Documents/emotions_predict_proj...\n",
       "1438  female  surprise  C:/Users/tahar/Documents/emotions_predict_proj...\n",
       "1439  female  surprise  C:/Users/tahar/Documents/emotions_predict_proj...\n",
       "\n",
       "[1440 rows x 3 columns]"
      ]
     },
     "execution_count": 4,
     "metadata": {},
     "output_type": "execute_result"
    }
   ],
   "source": [
    "# PUT EXTRACTED LABELS WITH FILEPATH INTO DATAFRAME\n",
    "audio_df = pd.DataFrame(emotion)\n",
    "audio_df = audio_df.replace({1:'neutral', 2:'calm', 3:'happy', 4:'sad', 5:'angry', 6:'fear', 7:'disgust', 8:'surprise'})\n",
    "audio_df = pd.concat([pd.DataFrame(gender),audio_df],axis=1)\n",
    "audio_df.columns = ['gender','emotion']\n",
    "audio_df = pd.concat([audio_df,pd.DataFrame(file_path, columns = ['path'])],axis=1)\n",
    "audio_df"
   ]
  },
  {
   "cell_type": "code",
   "execution_count": 5,
   "metadata": {
    "pycharm": {
     "name": "#%%\n"
    }
   },
   "outputs": [],
   "source": [
    "# EXPORT TO CSV\n",
    "audio_df.to_csv('audio.csv',index=False)"
   ]
  },
  {
   "cell_type": "markdown",
   "metadata": {
    "pycharm": {
     "name": "#%% md\n"
    }
   },
   "source": []
  },
  {
   "cell_type": "code",
   "execution_count": 6,
   "metadata": {
    "pycharm": {
     "name": "#%%\n"
    }
   },
   "outputs": [],
   "source": [
    "# Function to extract MFCC features\n",
    "def extract_features(file_path):\n",
    "    audio, sr = librosa.load(file_path)\n",
    "    mfcc = librosa.feature.mfcc(y=audio, sr=sr)\n",
    "    return mfcc.T"
   ]
  },
  {
   "cell_type": "code",
   "execution_count": 7,
   "metadata": {
    "pycharm": {
     "name": "#%%\n"
    }
   },
   "outputs": [
    {
     "data": {
      "text/html": [
       "<div>\n",
       "<style scoped>\n",
       "    .dataframe tbody tr th:only-of-type {\n",
       "        vertical-align: middle;\n",
       "    }\n",
       "\n",
       "    .dataframe tbody tr th {\n",
       "        vertical-align: top;\n",
       "    }\n",
       "\n",
       "    .dataframe thead th {\n",
       "        text-align: right;\n",
       "    }\n",
       "</style>\n",
       "<table border=\"1\" class=\"dataframe\">\n",
       "  <thead>\n",
       "    <tr style=\"text-align: right;\">\n",
       "      <th></th>\n",
       "      <th>gender</th>\n",
       "      <th>emotion</th>\n",
       "      <th>mfcc0_mean</th>\n",
       "      <th>mfcc1_mean</th>\n",
       "      <th>mfcc2_mean</th>\n",
       "      <th>mfcc3_mean</th>\n",
       "      <th>mfcc4_mean</th>\n",
       "      <th>mfcc5_mean</th>\n",
       "      <th>mfcc6_mean</th>\n",
       "      <th>mfcc7_mean</th>\n",
       "      <th>...</th>\n",
       "      <th>mfcc10_max</th>\n",
       "      <th>mfcc11_max</th>\n",
       "      <th>mfcc12_max</th>\n",
       "      <th>mfcc13_max</th>\n",
       "      <th>mfcc14_max</th>\n",
       "      <th>mfcc15_max</th>\n",
       "      <th>mfcc16_max</th>\n",
       "      <th>mfcc17_max</th>\n",
       "      <th>mfcc18_max</th>\n",
       "      <th>mfcc19_max</th>\n",
       "    </tr>\n",
       "  </thead>\n",
       "  <tbody>\n",
       "    <tr>\n",
       "      <th>0</th>\n",
       "      <td>male</td>\n",
       "      <td>neutral</td>\n",
       "      <td>-697.792603</td>\n",
       "      <td>54.890041</td>\n",
       "      <td>0.663466</td>\n",
       "      <td>12.435786</td>\n",
       "      <td>7.733952</td>\n",
       "      <td>0.530750</td>\n",
       "      <td>-3.216631</td>\n",
       "      <td>-3.159395</td>\n",
       "      <td>...</td>\n",
       "      <td>19.282513</td>\n",
       "      <td>13.166721</td>\n",
       "      <td>42.405159</td>\n",
       "      <td>6.360347</td>\n",
       "      <td>17.785788</td>\n",
       "      <td>10.016875</td>\n",
       "      <td>7.932010</td>\n",
       "      <td>10.800980</td>\n",
       "      <td>9.970127</td>\n",
       "      <td>6.679748</td>\n",
       "    </tr>\n",
       "    <tr>\n",
       "      <th>1</th>\n",
       "      <td>male</td>\n",
       "      <td>neutral</td>\n",
       "      <td>-692.855774</td>\n",
       "      <td>55.363899</td>\n",
       "      <td>-1.548319</td>\n",
       "      <td>16.038307</td>\n",
       "      <td>8.818810</td>\n",
       "      <td>-0.146587</td>\n",
       "      <td>-1.373392</td>\n",
       "      <td>-5.293180</td>\n",
       "      <td>...</td>\n",
       "      <td>20.866905</td>\n",
       "      <td>13.476914</td>\n",
       "      <td>39.858543</td>\n",
       "      <td>9.668144</td>\n",
       "      <td>24.269985</td>\n",
       "      <td>12.586897</td>\n",
       "      <td>10.210186</td>\n",
       "      <td>13.390223</td>\n",
       "      <td>10.713772</td>\n",
       "      <td>10.956112</td>\n",
       "    </tr>\n",
       "    <tr>\n",
       "      <th>2</th>\n",
       "      <td>male</td>\n",
       "      <td>neutral</td>\n",
       "      <td>-691.587891</td>\n",
       "      <td>58.024662</td>\n",
       "      <td>0.159465</td>\n",
       "      <td>13.624650</td>\n",
       "      <td>5.374112</td>\n",
       "      <td>1.162336</td>\n",
       "      <td>-2.083359</td>\n",
       "      <td>-5.382585</td>\n",
       "      <td>...</td>\n",
       "      <td>20.811386</td>\n",
       "      <td>14.159821</td>\n",
       "      <td>46.281670</td>\n",
       "      <td>5.885535</td>\n",
       "      <td>17.851379</td>\n",
       "      <td>14.784107</td>\n",
       "      <td>4.818031</td>\n",
       "      <td>4.499362</td>\n",
       "      <td>13.342928</td>\n",
       "      <td>10.096229</td>\n",
       "    </tr>\n",
       "    <tr>\n",
       "      <th>3</th>\n",
       "      <td>male</td>\n",
       "      <td>neutral</td>\n",
       "      <td>-685.105469</td>\n",
       "      <td>55.879421</td>\n",
       "      <td>2.783262</td>\n",
       "      <td>13.252023</td>\n",
       "      <td>6.989668</td>\n",
       "      <td>2.981274</td>\n",
       "      <td>-1.586029</td>\n",
       "      <td>-6.961661</td>\n",
       "      <td>...</td>\n",
       "      <td>21.657051</td>\n",
       "      <td>15.068411</td>\n",
       "      <td>27.479233</td>\n",
       "      <td>20.469234</td>\n",
       "      <td>10.382744</td>\n",
       "      <td>15.994092</td>\n",
       "      <td>15.000591</td>\n",
       "      <td>7.484988</td>\n",
       "      <td>11.135729</td>\n",
       "      <td>8.726198</td>\n",
       "    </tr>\n",
       "    <tr>\n",
       "      <th>4</th>\n",
       "      <td>male</td>\n",
       "      <td>calm</td>\n",
       "      <td>-727.104370</td>\n",
       "      <td>62.355034</td>\n",
       "      <td>3.121181</td>\n",
       "      <td>15.064671</td>\n",
       "      <td>8.132434</td>\n",
       "      <td>1.927084</td>\n",
       "      <td>-3.274656</td>\n",
       "      <td>-3.761792</td>\n",
       "      <td>...</td>\n",
       "      <td>28.543127</td>\n",
       "      <td>9.657723</td>\n",
       "      <td>30.568981</td>\n",
       "      <td>8.716321</td>\n",
       "      <td>14.647698</td>\n",
       "      <td>15.242265</td>\n",
       "      <td>7.977610</td>\n",
       "      <td>14.077288</td>\n",
       "      <td>9.820648</td>\n",
       "      <td>9.831396</td>\n",
       "    </tr>\n",
       "  </tbody>\n",
       "</table>\n",
       "<p>5 rows × 62 columns</p>\n",
       "</div>"
      ],
      "text/plain": [
       "  gender  emotion  mfcc0_mean  mfcc1_mean  mfcc2_mean  mfcc3_mean  mfcc4_mean  \\\n",
       "0   male  neutral -697.792603   54.890041    0.663466   12.435786    7.733952   \n",
       "1   male  neutral -692.855774   55.363899   -1.548319   16.038307    8.818810   \n",
       "2   male  neutral -691.587891   58.024662    0.159465   13.624650    5.374112   \n",
       "3   male  neutral -685.105469   55.879421    2.783262   13.252023    6.989668   \n",
       "4   male     calm -727.104370   62.355034    3.121181   15.064671    8.132434   \n",
       "\n",
       "   mfcc5_mean  mfcc6_mean  mfcc7_mean  ...  mfcc10_max  mfcc11_max  \\\n",
       "0    0.530750   -3.216631   -3.159395  ...   19.282513   13.166721   \n",
       "1   -0.146587   -1.373392   -5.293180  ...   20.866905   13.476914   \n",
       "2    1.162336   -2.083359   -5.382585  ...   20.811386   14.159821   \n",
       "3    2.981274   -1.586029   -6.961661  ...   21.657051   15.068411   \n",
       "4    1.927084   -3.274656   -3.761792  ...   28.543127    9.657723   \n",
       "\n",
       "   mfcc12_max  mfcc13_max  mfcc14_max  mfcc15_max  mfcc16_max  mfcc17_max  \\\n",
       "0   42.405159    6.360347   17.785788   10.016875    7.932010   10.800980   \n",
       "1   39.858543    9.668144   24.269985   12.586897   10.210186   13.390223   \n",
       "2   46.281670    5.885535   17.851379   14.784107    4.818031    4.499362   \n",
       "3   27.479233   20.469234   10.382744   15.994092   15.000591    7.484988   \n",
       "4   30.568981    8.716321   14.647698   15.242265    7.977610   14.077288   \n",
       "\n",
       "   mfcc18_max  mfcc19_max  \n",
       "0    9.970127    6.679748  \n",
       "1   10.713772   10.956112  \n",
       "2   13.342928   10.096229  \n",
       "3   11.135729    8.726198  \n",
       "4    9.820648    9.831396  \n",
       "\n",
       "[5 rows x 62 columns]"
      ]
     },
     "execution_count": 7,
     "metadata": {},
     "output_type": "execute_result"
    }
   ],
   "source": [
    "# Load the dataset from the CSV file\n",
    "df = pd.read_csv('audio.csv')\n",
    "\n",
    "# Apply the function to extract features\n",
    "features = df['path'].apply(extract_features)\n",
    "\n",
    "# Create an empty list to store the aggregated MFCC features\n",
    "mfcc_data = []\n",
    "\n",
    "# Compute aggregated statistics for each MFCC feature\n",
    "for i, feature in enumerate(features):\n",
    "    # Compute statistics (mean, standard deviation, and maximum) along the rows (frames)\n",
    "    mfcc_stats = np.hstack((np.mean(feature, axis=0), np.std(feature, axis=0), np.max(feature, axis=0)))\n",
    "\n",
    "    # Create a dictionary with the aggregated statistics\n",
    "    mfcc_dict = {f'mfcc{j}_mean': mfcc_stats[j] for j in range(mfcc_stats.shape[0]//3)}\n",
    "    mfcc_dict.update({f'mfcc{j}_std': mfcc_stats[j + mfcc_stats.shape[0]//3] for j in range(mfcc_stats.shape[0]//3)})\n",
    "    mfcc_dict.update({f'mfcc{j}_max': mfcc_stats[j + 2*mfcc_stats.shape[0]//3] for j in range(mfcc_stats.shape[0]//3)})\n",
    "\n",
    "    # Append the dictionary to the list\n",
    "    mfcc_data.append(mfcc_dict)\n",
    "\n",
    "# Convert the list of dictionaries to a DataFrame\n",
    "mfcc_df = pd.DataFrame.from_records(mfcc_data)\n",
    "\n",
    "# Concatenate the original DataFrame with the aggregated MFCC DataFrame\n",
    "df = pd.concat([df, mfcc_df], axis=1)\n",
    "df.drop(columns='path', inplace=True)\n",
    "df.head()\n"
   ]
  },
  {
   "cell_type": "code",
   "execution_count": 8,
   "metadata": {
    "pycharm": {
     "name": "#%%\n"
    }
   },
   "outputs": [
    {
     "data": {
      "text/plain": [
       "Counter({'calm': 192,\n",
       "         'happy': 192,\n",
       "         'sad': 192,\n",
       "         'angry': 192,\n",
       "         'fear': 192,\n",
       "         'disgust': 192,\n",
       "         'surprise': 192,\n",
       "         'neutral': 96})"
      ]
     },
     "execution_count": 8,
     "metadata": {},
     "output_type": "execute_result"
    }
   ],
   "source": [
    "# check if dataset is balanced\n",
    "Counter(df.loc[:,'emotion'])"
   ]
  },
  {
   "cell_type": "code",
   "execution_count": 9,
   "metadata": {
    "pycharm": {
     "name": "#%%\n"
    }
   },
   "outputs": [
    {
     "data": {
      "text/plain": [
       "['emotion_label_encoder.pkl']"
      ]
     },
     "execution_count": 9,
     "metadata": {},
     "output_type": "execute_result"
    }
   ],
   "source": [
    "x= df.drop('emotion', axis=1)\n",
    "y=df.loc[ : ,'emotion']\n",
    "x['gender'].replace({'male':1,'female':0},inplace=True)\n",
    "lb= LabelEncoder()\n",
    "y_encoded = lb.fit_transform(y)\n",
    "joblib.dump(lb,'emotion_label_encoder.pkl')"
   ]
  },
  {
   "cell_type": "code",
   "execution_count": 10,
   "metadata": {
    "pycharm": {
     "name": "#%%\n"
    }
   },
   "outputs": [
    {
     "data": {
      "text/plain": [
       "Counter({5: 192, 1: 192, 4: 192, 6: 192, 0: 192, 3: 192, 2: 192, 7: 192})"
      ]
     },
     "execution_count": 10,
     "metadata": {},
     "output_type": "execute_result"
    }
   ],
   "source": [
    "smote = SMOTE(sampling_strategy='minority') # use smote technique to bump up our minority class in this case neutral class\n",
    "X1, y = smote.fit_resample(x,y_encoded)\n",
    "Standard_Scaler=StandardScaler()\n",
    "x=Standard_Scaler.fit_transform(X1) # scale our features\n",
    "joblib.dump(Standard_Scaler,'scaler.pkl')\n",
    "Counter(y) # check again if our dataset get balanced"
   ]
  },
  {
   "cell_type": "code",
   "execution_count": 11,
   "metadata": {
    "pycharm": {
     "name": "#%%\n"
    }
   },
   "outputs": [],
   "source": [
    "# split data into train and test\n",
    "X_train, X_test, Y_train, Y_test = train_test_split(x,y,test_size=0.2)"
   ]
  },
  {
   "cell_type": "code",
   "execution_count": 12,
   "metadata": {
    "pycharm": {
     "name": "#%%\n"
    }
   },
   "outputs": [
    {
     "data": {
      "text/html": [
       "<style>#sk-container-id-1 {color: black;background-color: white;}#sk-container-id-1 pre{padding: 0;}#sk-container-id-1 div.sk-toggleable {background-color: white;}#sk-container-id-1 label.sk-toggleable__label {cursor: pointer;display: block;width: 100%;margin-bottom: 0;padding: 0.3em;box-sizing: border-box;text-align: center;}#sk-container-id-1 label.sk-toggleable__label-arrow:before {content: \"▸\";float: left;margin-right: 0.25em;color: #696969;}#sk-container-id-1 label.sk-toggleable__label-arrow:hover:before {color: black;}#sk-container-id-1 div.sk-estimator:hover label.sk-toggleable__label-arrow:before {color: black;}#sk-container-id-1 div.sk-toggleable__content {max-height: 0;max-width: 0;overflow: hidden;text-align: left;background-color: #f0f8ff;}#sk-container-id-1 div.sk-toggleable__content pre {margin: 0.2em;color: black;border-radius: 0.25em;background-color: #f0f8ff;}#sk-container-id-1 input.sk-toggleable__control:checked~div.sk-toggleable__content {max-height: 200px;max-width: 100%;overflow: auto;}#sk-container-id-1 input.sk-toggleable__control:checked~label.sk-toggleable__label-arrow:before {content: \"▾\";}#sk-container-id-1 div.sk-estimator input.sk-toggleable__control:checked~label.sk-toggleable__label {background-color: #d4ebff;}#sk-container-id-1 div.sk-label input.sk-toggleable__control:checked~label.sk-toggleable__label {background-color: #d4ebff;}#sk-container-id-1 input.sk-hidden--visually {border: 0;clip: rect(1px 1px 1px 1px);clip: rect(1px, 1px, 1px, 1px);height: 1px;margin: -1px;overflow: hidden;padding: 0;position: absolute;width: 1px;}#sk-container-id-1 div.sk-estimator {font-family: monospace;background-color: #f0f8ff;border: 1px dotted black;border-radius: 0.25em;box-sizing: border-box;margin-bottom: 0.5em;}#sk-container-id-1 div.sk-estimator:hover {background-color: #d4ebff;}#sk-container-id-1 div.sk-parallel-item::after {content: \"\";width: 100%;border-bottom: 1px solid gray;flex-grow: 1;}#sk-container-id-1 div.sk-label:hover label.sk-toggleable__label {background-color: #d4ebff;}#sk-container-id-1 div.sk-serial::before {content: \"\";position: absolute;border-left: 1px solid gray;box-sizing: border-box;top: 0;bottom: 0;left: 50%;z-index: 0;}#sk-container-id-1 div.sk-serial {display: flex;flex-direction: column;align-items: center;background-color: white;padding-right: 0.2em;padding-left: 0.2em;position: relative;}#sk-container-id-1 div.sk-item {position: relative;z-index: 1;}#sk-container-id-1 div.sk-parallel {display: flex;align-items: stretch;justify-content: center;background-color: white;position: relative;}#sk-container-id-1 div.sk-item::before, #sk-container-id-1 div.sk-parallel-item::before {content: \"\";position: absolute;border-left: 1px solid gray;box-sizing: border-box;top: 0;bottom: 0;left: 50%;z-index: -1;}#sk-container-id-1 div.sk-parallel-item {display: flex;flex-direction: column;z-index: 1;position: relative;background-color: white;}#sk-container-id-1 div.sk-parallel-item:first-child::after {align-self: flex-end;width: 50%;}#sk-container-id-1 div.sk-parallel-item:last-child::after {align-self: flex-start;width: 50%;}#sk-container-id-1 div.sk-parallel-item:only-child::after {width: 0;}#sk-container-id-1 div.sk-dashed-wrapped {border: 1px dashed gray;margin: 0 0.4em 0.5em 0.4em;box-sizing: border-box;padding-bottom: 0.4em;background-color: white;}#sk-container-id-1 div.sk-label label {font-family: monospace;font-weight: bold;display: inline-block;line-height: 1.2em;}#sk-container-id-1 div.sk-label-container {text-align: center;}#sk-container-id-1 div.sk-container {/* jupyter's `normalize.less` sets `[hidden] { display: none; }` but bootstrap.min.css set `[hidden] { display: none !important; }` so we also need the `!important` here to be able to override the default hidden behavior on the sphinx rendered scikit-learn.org. See: https://github.com/scikit-learn/scikit-learn/issues/21755 */display: inline-block !important;position: relative;}#sk-container-id-1 div.sk-text-repr-fallback {display: none;}</style><div id=\"sk-container-id-1\" class=\"sk-top-container\"><div class=\"sk-text-repr-fallback\"><pre>SVC(C=10)</pre><b>In a Jupyter environment, please rerun this cell to show the HTML representation or trust the notebook. <br />On GitHub, the HTML representation is unable to render, please try loading this page with nbviewer.org.</b></div><div class=\"sk-container\" hidden><div class=\"sk-item\"><div class=\"sk-estimator sk-toggleable\"><input class=\"sk-toggleable__control sk-hidden--visually\" id=\"sk-estimator-id-1\" type=\"checkbox\" checked><label for=\"sk-estimator-id-1\" class=\"sk-toggleable__label sk-toggleable__label-arrow\">SVC</label><div class=\"sk-toggleable__content\"><pre>SVC(C=10)</pre></div></div></div></div></div>"
      ],
      "text/plain": [
       "SVC(C=10)"
      ]
     },
     "execution_count": 12,
     "metadata": {},
     "output_type": "execute_result"
    }
   ],
   "source": [
    "# Create an SVM classifier\n",
    "svm_cv = SVC()\n",
    "# Define an hyperparameter grid for the search\n",
    "param_grid = {'kernel': ['linear', 'poly', 'rbf', 'sigmoid'],\n",
    "              'C': [0.1, 1, 10],\n",
    "              'gamma': ['scale', 'auto']}\n",
    "\n",
    "# Create a GridSearchCV object with 6-fold cross-validation to search for the best hyperparameters\n",
    "grid_search = GridSearchCV(svm_cv, param_grid, cv=6)\n",
    "# Apply the grid search on our data\n",
    "grid_search.fit(x,y )\n",
    "# Redefine the SVM classifier with the parameters obtained from the grid search\n",
    "k=grid_search.best_params_['kernel']\n",
    "g=grid_search.best_params_['gamma']\n",
    "c=grid_search.best_params_['C']\n",
    "svm_cv = SVC(kernel=k,gamma=g,C=c)\n",
    "# Apply SVM on the data\n",
    "svm_cv.fit(X_train,Y_train)"
   ]
  },
  {
   "cell_type": "code",
   "execution_count": 13,
   "metadata": {
    "pycharm": {
     "name": "#%%\n"
    }
   },
   "outputs": [
    {
     "data": {
      "text/plain": [
       "0.8084415584415584"
      ]
     },
     "execution_count": 13,
     "metadata": {},
     "output_type": "execute_result"
    }
   ],
   "source": [
    "joblib.dump(svm_cv,'emotion_predict_model.pkl')\n",
    "y_pred = svm_cv.predict(X_test)\n",
    "accuracy= accuracy_score(Y_test,y_pred )\n",
    "accuracy"
   ]
  },
  {
   "cell_type": "code",
   "execution_count": 14,
   "metadata": {
    "pycharm": {
     "name": "#%%\n"
    }
   },
   "outputs": [
    {
     "data": {
      "text/html": [
       "<div>\n",
       "<style scoped>\n",
       "    .dataframe tbody tr th:only-of-type {\n",
       "        vertical-align: middle;\n",
       "    }\n",
       "\n",
       "    .dataframe tbody tr th {\n",
       "        vertical-align: top;\n",
       "    }\n",
       "\n",
       "    .dataframe thead th {\n",
       "        text-align: right;\n",
       "    }\n",
       "</style>\n",
       "<table border=\"1\" class=\"dataframe\">\n",
       "  <thead>\n",
       "    <tr style=\"text-align: right;\">\n",
       "      <th></th>\n",
       "      <th>Actual Values</th>\n",
       "      <th>Predicted Values</th>\n",
       "    </tr>\n",
       "  </thead>\n",
       "  <tbody>\n",
       "    <tr>\n",
       "      <th>140</th>\n",
       "      <td>angry</td>\n",
       "      <td>angry</td>\n",
       "    </tr>\n",
       "    <tr>\n",
       "      <th>141</th>\n",
       "      <td>disgust</td>\n",
       "      <td>disgust</td>\n",
       "    </tr>\n",
       "    <tr>\n",
       "      <th>142</th>\n",
       "      <td>angry</td>\n",
       "      <td>angry</td>\n",
       "    </tr>\n",
       "    <tr>\n",
       "      <th>143</th>\n",
       "      <td>angry</td>\n",
       "      <td>angry</td>\n",
       "    </tr>\n",
       "    <tr>\n",
       "      <th>144</th>\n",
       "      <td>happy</td>\n",
       "      <td>happy</td>\n",
       "    </tr>\n",
       "    <tr>\n",
       "      <th>145</th>\n",
       "      <td>angry</td>\n",
       "      <td>angry</td>\n",
       "    </tr>\n",
       "    <tr>\n",
       "      <th>146</th>\n",
       "      <td>fear</td>\n",
       "      <td>fear</td>\n",
       "    </tr>\n",
       "    <tr>\n",
       "      <th>147</th>\n",
       "      <td>happy</td>\n",
       "      <td>happy</td>\n",
       "    </tr>\n",
       "    <tr>\n",
       "      <th>148</th>\n",
       "      <td>surprise</td>\n",
       "      <td>surprise</td>\n",
       "    </tr>\n",
       "    <tr>\n",
       "      <th>149</th>\n",
       "      <td>surprise</td>\n",
       "      <td>surprise</td>\n",
       "    </tr>\n",
       "  </tbody>\n",
       "</table>\n",
       "</div>"
      ],
      "text/plain": [
       "    Actual Values Predicted Values\n",
       "140         angry            angry\n",
       "141       disgust          disgust\n",
       "142         angry            angry\n",
       "143         angry            angry\n",
       "144         happy            happy\n",
       "145         angry            angry\n",
       "146          fear             fear\n",
       "147         happy            happy\n",
       "148      surprise         surprise\n",
       "149      surprise         surprise"
      ]
     },
     "execution_count": 14,
     "metadata": {},
     "output_type": "execute_result"
    }
   ],
   "source": [
    "# PREDICTIONS\n",
    "predictions = lb.inverse_transform(y_pred)\n",
    "predictions = pd.DataFrame({'Predicted Values': predictions})\n",
    "\n",
    "# ACTUAL LABELS\n",
    "actual = lb.inverse_transform(Y_test)\n",
    "actual = pd.DataFrame({'Actual Values': actual})\n",
    "\n",
    "# COMBINE BOTH\n",
    "finaldf = actual.join(predictions)\n",
    "finaldf[140:150]"
   ]
  },
  {
   "cell_type": "code",
   "execution_count": 15,
   "metadata": {
    "pycharm": {
     "name": "#%%\n"
    }
   },
   "outputs": [
    {
     "data": {
      "image/png": "[encoded data removed]",
      "text/plain": [
       "<Figure size 1200x1000 with 2 Axes>"
      ]
     },
     "metadata": {},
     "output_type": "display_data"
    }
   ],
   "source": [
    "# CREATE CONFUSION MATRIX OF ACTUAL VS. PREDICTION\n",
    "cm = confusion_matrix(Y_test, y_pred)\n",
    "plt.figure(figsize = (12, 10))\n",
    "cm = pd.DataFrame(cm , index = [i for i in  lb.classes_ ] , columns = [i for i in lb.classes_ ])\n",
    "ax = sns.heatmap(cm, linecolor='white', cmap='Blues', linewidth=1, annot=True, fmt='')\n",
    "bottom, top = ax.get_ylim()\n",
    "ax.set_ylim(bottom + 0.5, top - 0.5)\n",
    "plt.title('Confusion Matrix', size=20)\n",
    "plt.xlabel('Predicted Labels', size=14)\n",
    "plt.ylabel('Actual Labels', size=14)\n",
    "plt.show()"
   ]
  },
  {
   "cell_type": "code",
   "execution_count": 16,
   "metadata": {
    "pycharm": {
     "name": "#%%\n"
    }
   },
   "outputs": [
    {
     "name": "stdout",
     "output_type": "stream",
     "text": [
      "10/10 [==============================] - 0s 6ms/step - loss: 1.7314 - accuracy: 0.6136\n"
     ]
    },
    {
     "data": {
      "text/plain": [
       "[1.7313834428787231, 0.6136363744735718]"
      ]
     },
     "execution_count": 16,
     "metadata": {},
     "output_type": "execute_result"
    }
   ],
   "source": [
    "# Define a CNN model\n",
    "model = Sequential()\n",
    "model.add(Conv1D(64, kernel_size=3, activation='relu', input_shape=(X_train.shape[1], 1)))\n",
    "model.add(Conv1D(64, kernel_size=3, activation='relu'))\n",
    "model.add(BatchNormalization())\n",
    "model.add(MaxPooling1D(pool_size=2))\n",
    "model.add(Dropout(0.2))\n",
    "\n",
    "model.add(Conv1D(128, kernel_size=3, activation='relu'))\n",
    "model.add(Conv1D(128, kernel_size=3, activation='relu'))\n",
    "model.add(BatchNormalization())\n",
    "model.add(MaxPooling1D(pool_size=2))\n",
    "model.add(Dropout(0.3))\n",
    "\n",
    "model.add(Conv1D(256, kernel_size=3, activation='relu'))\n",
    "model.add(Conv1D(256, kernel_size=3, activation='relu'))\n",
    "model.add(BatchNormalization())\n",
    "model.add(MaxPooling1D(pool_size=2))\n",
    "model.add(Dropout(0.4))\n",
    "\n",
    "model.add(Flatten())\n",
    "model.add(Dense(256, activation='relu'))\n",
    "model.add(Dropout(0.5))\n",
    "model.add(Dense(8, activation='sigmoid'))\n",
    "\n",
    "# Compile the model\n",
    "model.compile(loss='categorical_crossentropy', optimizer='adam', metrics=['accuracy'])\n",
    "Y_train_encoded = to_categorical(Y_train)\n",
    "Y_test_encoded = to_categorical(Y_test)\n",
    "# Train the model\n",
    "model.fit(X_train, Y_train_encoded, batch_size=20, epochs=50, verbose=0)\n",
    "# Evaluate the model\n",
    "eval_model = model.evaluate(X_test, Y_test_encoded)\n",
    "eval_model # got better accuracy score than svm\n"
   ]
  },
  {
   "cell_type": "code",
   "execution_count": 17,
   "metadata": {
    "pycharm": {
     "name": "#%%\n"
    }
   },
   "outputs": [
    {
     "name": "stdout",
     "output_type": "stream",
     "text": [
      "10/10 [==============================] - 0s 5ms/step\n"
     ]
    },
    {
     "data": {
      "text/html": [
       "<div>\n",
       "<style scoped>\n",
       "    .dataframe tbody tr th:only-of-type {\n",
       "        vertical-align: middle;\n",
       "    }\n",
       "\n",
       "    .dataframe tbody tr th {\n",
       "        vertical-align: top;\n",
       "    }\n",
       "\n",
       "    .dataframe thead th {\n",
       "        text-align: right;\n",
       "    }\n",
       "</style>\n",
       "<table border=\"1\" class=\"dataframe\">\n",
       "  <thead>\n",
       "    <tr style=\"text-align: right;\">\n",
       "      <th></th>\n",
       "      <th>Actual Values</th>\n",
       "      <th>Predicted Values</th>\n",
       "    </tr>\n",
       "  </thead>\n",
       "  <tbody>\n",
       "    <tr>\n",
       "      <th>140</th>\n",
       "      <td>angry</td>\n",
       "      <td>angry</td>\n",
       "    </tr>\n",
       "    <tr>\n",
       "      <th>141</th>\n",
       "      <td>disgust</td>\n",
       "      <td>sad</td>\n",
       "    </tr>\n",
       "    <tr>\n",
       "      <th>142</th>\n",
       "      <td>angry</td>\n",
       "      <td>disgust</td>\n",
       "    </tr>\n",
       "    <tr>\n",
       "      <th>143</th>\n",
       "      <td>angry</td>\n",
       "      <td>surprise</td>\n",
       "    </tr>\n",
       "    <tr>\n",
       "      <th>144</th>\n",
       "      <td>happy</td>\n",
       "      <td>happy</td>\n",
       "    </tr>\n",
       "    <tr>\n",
       "      <th>145</th>\n",
       "      <td>angry</td>\n",
       "      <td>angry</td>\n",
       "    </tr>\n",
       "    <tr>\n",
       "      <th>146</th>\n",
       "      <td>fear</td>\n",
       "      <td>angry</td>\n",
       "    </tr>\n",
       "    <tr>\n",
       "      <th>147</th>\n",
       "      <td>happy</td>\n",
       "      <td>happy</td>\n",
       "    </tr>\n",
       "    <tr>\n",
       "      <th>148</th>\n",
       "      <td>surprise</td>\n",
       "      <td>surprise</td>\n",
       "    </tr>\n",
       "    <tr>\n",
       "      <th>149</th>\n",
       "      <td>surprise</td>\n",
       "      <td>surprise</td>\n",
       "    </tr>\n",
       "  </tbody>\n",
       "</table>\n",
       "</div>"
      ],
      "text/plain": [
       "    Actual Values Predicted Values\n",
       "140         angry            angry\n",
       "141       disgust              sad\n",
       "142         angry          disgust\n",
       "143         angry         surprise\n",
       "144         happy            happy\n",
       "145         angry            angry\n",
       "146          fear            angry\n",
       "147         happy            happy\n",
       "148      surprise         surprise\n",
       "149      surprise         surprise"
      ]
     },
     "execution_count": 17,
     "metadata": {},
     "output_type": "execute_result"
    }
   ],
   "source": [
    "# PREDICTIONS\n",
    "y_pred = model.predict(X_test)\n",
    "y_pred=y_pred.argmax(axis=1)\n",
    "predictions = y_pred.astype(int).flatten()\n",
    "predictions = lb.inverse_transform(predictions)\n",
    "predictions = pd.DataFrame({'Predicted Values': predictions})\n",
    "\n",
    "# ACTUAL LABELS\n",
    "actual=Y_test\n",
    "actual = lb.inverse_transform(actual)\n",
    "actual = pd.DataFrame({'Actual Values': actual})\n",
    "\n",
    "# COMBINE BOTH\n",
    "finaldf = actual.join(predictions)\n",
    "finaldf[140:150]"
   ]
  },
  {
   "cell_type": "code",
   "execution_count": 18,
   "metadata": {
    "pycharm": {
     "name": "#%%\n"
    }
   },
   "outputs": [
    {
     "data": {
      "image/png": "[encoded data removed]",
      "text/plain": [
       "<Figure size 1200x1000 with 2 Axes>"
      ]
     },
     "metadata": {},
     "output_type": "display_data"
    }
   ],
   "source": [
    "# CREATE CONFUSION MATRIX OF ACTUAL VS PREDICTION\n",
    "cm = confusion_matrix(Y_test, y_pred)\n",
    "plt.figure(figsize = (12, 10))\n",
    "cm = pd.DataFrame(cm , index = [i for i in  lb.classes_ ] , columns = [i for i in lb.classes_ ])\n",
    "ax = sns.heatmap(cm, linecolor='white', cmap='Blues', linewidth=1, annot=True, fmt='')\n",
    "bottom, top = ax.get_ylim()\n",
    "ax.set_ylim(bottom + 0.5, top - 0.5)\n",
    "plt.title('Confusion Matrix', size=20)\n",
    "plt.xlabel('Predicted Labels', size=14)\n",
    "plt.ylabel('Actual Labels', size=14)\n",
    "plt.show()"
   ]
  },
  {
   "cell_type": "code",
   "execution_count": 23,
   "outputs": [
    {
     "data": {
      "text/plain": "<Figure size 1000x600 with 2 Axes>",
      "image/png": "[encoded data removed]"
     },
     "metadata": {},
     "output_type": "display_data"
    }
   ],
   "source": [
    "from sklearn.model_selection import  LearningCurveDisplay\n",
    "# display learning curve for SVM and CNN models\n",
    "fig, ax = plt.subplots(nrows=1, ncols=2, figsize=(10, 6), sharey=True)\n",
    "train_sizes = np.linspace(0.1, 1.0, 5)\n",
    "train_scores = []\n",
    "test_scores = []\n",
    "\n",
    "for train_size in train_sizes:\n",
    "  train_size = int(train_size * len(X_train))\n",
    "  X_train_subset = X_train[:train_size]\n",
    "  y_train_subset = Y_train_encoded[:train_size]\n",
    "  model.fit(X_train_subset, y_train_subset, epochs=50, verbose=0)\n",
    "  train_score = model.evaluate(X_train_subset, y_train_subset, verbose=0)[1]\n",
    "  test_score = model.evaluate(X_test, Y_test_encoded, verbose=0)[1]\n",
    "  train_scores.append(train_score)\n",
    "  test_scores.append(test_score)\n",
    "\n",
    "train_sizes = [train_size*1000 for train_size in train_sizes]\n",
    "ax[0].plot(train_sizes, train_scores, 'o-', label='Training Score')\n",
    "ax[0].plot(train_sizes, test_scores, 'o-', label='Validation Score')\n",
    "ax[0].set_xlabel('Training Examples')\n",
    "ax[0].set_ylabel('Accuracy')\n",
    "ax[0].set_title('Learning Curve for CNN Classifier')\n",
    "ax[0].legend()\n",
    "ax[0].grid(True)\n",
    "\n",
    "\n",
    "common_params = {\n",
    "    \"X\": X_train,\n",
    "    \"y\": Y_train,\n",
    "    \"train_sizes\": np.linspace(0.1, 1.0, 5),\n",
    "    \"score_type\": \"both\",\n",
    "    \"n_jobs\": 4,\n",
    "    \"line_kw\": {\"marker\": \"o\"},\n",
    "    \"std_display_style\": None,\n",
    "    \"score_name\": \"Accuracy\",\n",
    "}\n",
    "\n",
    "LearningCurveDisplay.from_estimator(svm_cv, **common_params, ax=ax[1])\n",
    "handles, label = ax[1].get_legend_handles_labels()\n",
    "ax[1].legend(handles[:2], [\"Training Score\", \"Validation Score\"])\n",
    "ax[1].set_xlabel('Training Examples')\n",
    "ax[1].set_title('Learning Curve for SVM Classifier')\n",
    "ax[1].grid(True)"
   ],
   "metadata": {
    "collapsed": false,
    "pycharm": {
     "name": "#%%\n"
    }
   }
  },
  {
   "cell_type": "markdown",
   "metadata": {
    "pycharm": {
     "name": "#%% md\n"
    }
   },
   "source": []
  },
  {
   "cell_type": "markdown",
   "source": [
    "#### we can for sure take SVM model as our ml model to build our api  for obvious reasons:\n",
    "\n",
    "  <b>1\\. better accuracy score <br>\n",
    " 2\\. better learrning curve"
   ],
   "metadata": {
    "collapsed": false,
    "pycharm": {
     "name": "#%% md\n"
    }
   }
  },
  {
   "cell_type": "code",
   "execution_count": null,
   "metadata": {
    "pycharm": {
     "name": "#%%\n"
    }
   },
   "outputs": [],
   "source": []
  }
 ],
 "metadata": {
  "kernelspec": {
   "display_name": "Python 3 (ipykernel)",
   "language": "python",
   "name": "python3"
  },
  "language_info": {
   "codemirror_mode": {
    "name": "ipython",
    "version": 3
   },
   "file_extension": ".py",
   "mimetype": "text/x-python",
   "name": "python",
   "nbconvert_exporter": "python",
   "pygments_lexer": "ipython3",
   "version": "3.9.10"
  }
 },
 "nbformat": 4,
 "nbformat_minor": 1
}