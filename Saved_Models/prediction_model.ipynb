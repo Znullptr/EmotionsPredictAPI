{
 "cells": [
  {
   "cell_type": "markdown",
   "source": [
    "# Speech Emotion Recognition with SVM/CNN"
   ],
   "metadata": {
    "collapsed": false
   }
  },
  {
   "cell_type": "code",
   "execution_count": 1,
   "outputs": [],
   "source": [
    "import re\n",
    "from keras import Sequential\n",
    "import pandas as pd\n",
    "from imblearn.over_sampling import SMOTE\n",
    "from collections import Counter\n",
    "from sklearn.preprocessing import LabelEncoder\n",
    "import matplotlib.pyplot as plt\n",
    "from sklearn.svm import SVC\n",
    "from sklearn.model_selection import train_test_split\n",
    "from sklearn.metrics import confusion_matrix\n",
    "import  seaborn as sns\n",
    "import librosa\n",
    "from sklearn.preprocessing import StandardScaler\n",
    "import os\n",
    "from sklearn.metrics import accuracy_score\n",
    "from sklearn.model_selection import GridSearchCV\n",
    "import numpy as np\n",
    "from keras.utils import to_categorical\n",
    "from keras.layers import Conv1D, MaxPooling1D, Dropout, Flatten, Dense\n",
    "from keras.layers import BatchNormalization\n",
    "import joblib\n",
    "from sklearn.utils import shuffle"
   ],
   "metadata": {
    "collapsed": false,
    "ExecuteTime": {
     "end_time": "2023-08-31T22:04:36.179808600Z",
     "start_time": "2023-08-31T22:04:34.411069900Z"
    }
   }
  },
  {
   "cell_type": "markdown",
   "source": [
    "# Data Extraction"
   ],
   "metadata": {
    "collapsed": false
   }
  },
  {
   "cell_type": "code",
   "execution_count": 2,
   "metadata": {
    "pycharm": {
     "name": "#%%\n"
    },
    "ExecuteTime": {
     "end_time": "2023-08-31T22:04:36.195139200Z",
     "start_time": "2023-08-31T22:04:36.182799Z"
    }
   },
   "outputs": [],
   "source": [
    "# CREATE DIRECTORY OF AUDIO FILES\n",
    "Ravdess_Path = 'C:/Users/tahar/Documents/speech-emotion-recognition-en/Ravdess/audio_speech_actors_01-24/'\n",
    "Crema_Path='C:/Users/tahar/Documents/speech-emotion-recognition-en/Crema/'\n",
    "Savee_Path='C:/Users/tahar/Documents/speech-emotion-recognition-en/Savee/'\n",
    "Tess_Path='C:/Users/tahar/Documents/speech-emotion-recognition-en/Tess/'"
   ]
  },
  {
   "cell_type": "code",
   "execution_count": 3,
   "metadata": {
    "pycharm": {
     "name": "#%%\n"
    },
    "ExecuteTime": {
     "end_time": "2023-08-31T22:04:36.242713100Z",
     "start_time": "2023-08-31T22:04:36.198132200Z"
    }
   },
   "outputs": [],
   "source": [
    "# CREATE FUNCTION TO EXTRACT EMOTION NUMBER, ACTOR AND GENDER LABEL\n",
    "data = {'emotion' : [],\n",
    "        'path' : []\n",
    "        }\n",
    "actor_folders = os.listdir(Ravdess_Path) #list files in audio directory\n",
    "# Each of the 1440 files has a unique filename. The filename consists of a 7-part numerical identifier (e.g., 03-01-06-01-02-01-12.wav). These identifiers define the stimulus characteristics:\n",
    "for i in actor_folders:\n",
    "    filename = os.listdir(Ravdess_Path + i) #iterate over Actor folders\n",
    "    for f in filename: # go through files in Actor folder\n",
    "        emotion = int(f.split('.')[0].split('-')[2])\n",
    "        data['emotion'].append(emotion)\n",
    "        # Emotion (01 = neutral, 02 = calm, 03 = happy, 04 = sad, 05 = angry, 06 = fearful, 07 = disgust, 08 = surprised\n",
    "        data['path'].append(Ravdess_Path + i + '/' + f)"
   ]
  },
  {
   "cell_type": "code",
   "execution_count": 4,
   "outputs": [],
   "source": [
    "files = os.listdir(Crema_Path)\n",
    "for f in files: # go through files in Crema folder\n",
    "    emotion = f.split('.')[0].split('_')[2]\n",
    "    if emotion=='SAD':\n",
    "        data['emotion'].append('sad')\n",
    "    elif emotion=='ANG':\n",
    "        data['emotion'].append('angry')\n",
    "    elif emotion=='DIS':\n",
    "        data['emotion'].append('disgust')\n",
    "    elif emotion=='FEA':\n",
    "        data['emotion'].append('fear')\n",
    "    elif emotion=='HAP':\n",
    "        data['emotion'].append('happy')\n",
    "    elif emotion=='NEU':\n",
    "        data['emotion'].append('neutral')\n",
    "    data['path'].append(Crema_Path + f)"
   ],
   "metadata": {
    "collapsed": false,
    "ExecuteTime": {
     "end_time": "2023-08-31T22:04:36.282724500Z",
     "start_time": "2023-08-31T22:04:36.245698600Z"
    }
   }
  },
  {
   "cell_type": "code",
   "execution_count": 5,
   "outputs": [],
   "source": [
    "# PUT EXTRACTED LABELS WITH FILEPATH INTO DATAFRAME\n",
    "oaf_yaf_folders = os.listdir(Tess_Path)\n",
    "for i in oaf_yaf_folders:\n",
    "    files = os.listdir(Tess_Path + i)\n",
    "    for f in files:\n",
    "        emotion = f.split('.')[0].split('_')[2]\n",
    "        if emotion=='ps':\n",
    "            data['emotion'].append('surprise')\n",
    "        else:\n",
    "            data['emotion'].append(emotion)\n",
    "        # Emotion (01 = neutral, 02 = calm, 03 = happy, 04 = sad, 05 = angry, 06 = fearful, 07 = disgust, 08 = surprised\n",
    "        data['path'].append(Tess_Path + i + '/' + f)"
   ],
   "metadata": {
    "collapsed": false,
    "ExecuteTime": {
     "end_time": "2023-08-31T22:04:36.293726200Z",
     "start_time": "2023-08-31T22:04:36.278719600Z"
    }
   }
  },
  {
   "cell_type": "code",
   "execution_count": 6,
   "outputs": [],
   "source": [
    "files = os.listdir(Savee_Path)\n",
    "for f in files: # go through files in Crema folder\n",
    "    emotion = f.split('.')[0].split('_')[1]\n",
    "    emotion = re.sub('[0-9]','',emotion)\n",
    "    if emotion=='a':\n",
    "        data['emotion'].append('angry')\n",
    "    elif emotion=='d':\n",
    "        data['emotion'].append('disgust')\n",
    "    elif emotion=='f':\n",
    "        data['emotion'].append('fear')\n",
    "    elif emotion=='h':\n",
    "        data['emotion'].append('happy')\n",
    "    elif emotion=='n':\n",
    "        data['emotion'].append('neutral')\n",
    "    elif emotion=='sa':\n",
    "        data['emotion'].append('sad')\n",
    "    elif emotion=='su':\n",
    "        data['emotion'].append('surprise')\n",
    "    data['path'].append(Savee_Path + f)"
   ],
   "metadata": {
    "collapsed": false,
    "ExecuteTime": {
     "end_time": "2023-08-31T22:04:36.325602600Z",
     "start_time": "2023-08-31T22:04:36.292756300Z"
    }
   }
  },
  {
   "cell_type": "code",
   "execution_count": 7,
   "outputs": [
    {
     "data": {
      "text/plain": "   emotion                                               path\n0  neutral  C:/Users/tahar/Documents/speech-emotion-recogn...\n1  neutral  C:/Users/tahar/Documents/speech-emotion-recogn...\n2  neutral  C:/Users/tahar/Documents/speech-emotion-recogn...\n3  neutral  C:/Users/tahar/Documents/speech-emotion-recogn...\n4  neutral  C:/Users/tahar/Documents/speech-emotion-recogn...",
      "text/html": "<div>\n<style scoped>\n    .dataframe tbody tr th:only-of-type {\n        vertical-align: middle;\n    }\n\n    .dataframe tbody tr th {\n        vertical-align: top;\n    }\n\n    .dataframe thead th {\n        text-align: right;\n    }\n</style>\n<table border=\"1\" class=\"dataframe\">\n  <thead>\n    <tr style=\"text-align: right;\">\n      <th></th>\n      <th>emotion</th>\n      <th>path</th>\n    </tr>\n  </thead>\n  <tbody>\n    <tr>\n      <th>0</th>\n      <td>neutral</td>\n      <td>C:/Users/tahar/Documents/speech-emotion-recogn...</td>\n    </tr>\n    <tr>\n      <th>1</th>\n      <td>neutral</td>\n      <td>C:/Users/tahar/Documents/speech-emotion-recogn...</td>\n    </tr>\n    <tr>\n      <th>2</th>\n      <td>neutral</td>\n      <td>C:/Users/tahar/Documents/speech-emotion-recogn...</td>\n    </tr>\n    <tr>\n      <th>3</th>\n      <td>neutral</td>\n      <td>C:/Users/tahar/Documents/speech-emotion-recogn...</td>\n    </tr>\n    <tr>\n      <th>4</th>\n      <td>neutral</td>\n      <td>C:/Users/tahar/Documents/speech-emotion-recogn...</td>\n    </tr>\n  </tbody>\n</table>\n</div>"
     },
     "execution_count": 7,
     "metadata": {},
     "output_type": "execute_result"
    }
   ],
   "source": [
    "df = pd.DataFrame(data)\n",
    "df['emotion'].replace({1:'neutral', 2:'neutral', 3:'happy', 4:'sad', 5:'angry', 6:'fear', 7:'disgust', 8:'surprise'},inplace=True)\n",
    "df.head()"
   ],
   "metadata": {
    "collapsed": false,
    "ExecuteTime": {
     "end_time": "2023-08-31T22:04:36.337736200Z",
     "start_time": "2023-08-31T22:04:36.309043400Z"
    }
   }
  },
  {
   "cell_type": "code",
   "execution_count": 8,
   "outputs": [
    {
     "data": {
      "text/plain": "array(['neutral', 'happy', 'sad', 'angry', 'fear', 'disgust', 'surprise'],\n      dtype=object)"
     },
     "execution_count": 8,
     "metadata": {},
     "output_type": "execute_result"
    }
   ],
   "source": [
    "df['emotion'].unique()"
   ],
   "metadata": {
    "collapsed": false,
    "ExecuteTime": {
     "end_time": "2023-08-31T22:04:36.382037Z",
     "start_time": "2023-08-31T22:04:36.338729800Z"
    }
   }
  },
  {
   "cell_type": "code",
   "execution_count": 9,
   "outputs": [
    {
     "data": {
      "text/plain": "(12162, 2)"
     },
     "execution_count": 9,
     "metadata": {},
     "output_type": "execute_result"
    }
   ],
   "source": [
    "df.shape"
   ],
   "metadata": {
    "collapsed": false,
    "ExecuteTime": {
     "end_time": "2023-08-31T22:04:36.429589200Z",
     "start_time": "2023-08-31T22:04:36.354792900Z"
    }
   }
  },
  {
   "cell_type": "markdown",
   "source": [
    "# Data Augmentation"
   ],
   "metadata": {
    "collapsed": false
   }
  },
  {
   "cell_type": "code",
   "execution_count": 10,
   "outputs": [],
   "source": [
    "def add_noise(data,random=False,rate=0.035,threshold=0.075):\n",
    "    if random:\n",
    "        rate=np.random.random()*threshold\n",
    "    noise=rate*np.random.uniform()*np.amax(data)\n",
    "    augmented_data=data+noise*np.random.normal(size=data.shape[0])\n",
    "    return augmented_data\n",
    "\n",
    "def shifting(data,rate=1000):\n",
    "    augmented_data=int(np.random.uniform(low=-5,high=5)*rate)\n",
    "    augmented_data=np.roll(data,augmented_data)\n",
    "    return augmented_data\n",
    "\n",
    "def pitching(data,sr,pitch_factor=0.7,random=False):\n",
    "    if random:\n",
    "        pitch_factor=np.random.random() * pitch_factor\n",
    "    return librosa.effects.pitch_shift(y=data,sr=sr,n_steps=pitch_factor)\n",
    "\n",
    "def streching(data,rate=0.8):\n",
    "    return librosa.effects.time_stretch(y=data,rate=rate)"
   ],
   "metadata": {
    "collapsed": false,
    "ExecuteTime": {
     "end_time": "2023-08-31T22:04:36.450589600Z",
     "start_time": "2023-08-31T22:04:36.383042200Z"
    }
   }
  },
  {
   "cell_type": "markdown",
   "source": [
    "# Feature extraction"
   ],
   "metadata": {
    "collapsed": false
   }
  },
  {
   "cell_type": "code",
   "execution_count": 11,
   "metadata": {
    "pycharm": {
     "name": "#%%\n"
    },
    "ExecuteTime": {
     "end_time": "2023-08-31T22:04:36.467589200Z",
     "start_time": "2023-08-31T22:04:36.391050600Z"
    }
   },
   "outputs": [],
   "source": [
    "def zcr(data,frame_length,hop_length):\n",
    "    zcr=librosa.feature.zero_crossing_rate(y=data,frame_length=frame_length,hop_length=hop_length)\n",
    "    return np.squeeze(zcr)\n",
    "def rmse(data,frame_length=2048,hop_length=512):\n",
    "    rmse=librosa.feature.rms(y=data,frame_length=frame_length,hop_length=hop_length)\n",
    "    return np.squeeze(rmse)\n",
    "def mfcc(data,sr,flatten:bool=True):\n",
    "    mfcc=librosa.feature.mfcc(y=data,sr=sr)\n",
    "    return np.squeeze(mfcc.T)if not flatten else np.ravel(mfcc.T)\n",
    "\n",
    "def extract_features(data,sr,frame_length=2048,hop_length=512):\n",
    "    result=np.array([])\n",
    "\n",
    "    result=np.hstack((result,\n",
    "                      zcr(data,frame_length,hop_length),\n",
    "                      rmse(data,frame_length,hop_length),\n",
    "                      mfcc(data,sr)\n",
    "                     ))\n",
    "    return result\n",
    "\n",
    "def get_features(path,duration=2.5, offset=0.6):\n",
    "    data,sr=librosa.load(path,duration=duration,offset=offset)\n",
    "    aud=extract_features(data,sr)\n",
    "    audio=np.array(aud)\n",
    "\n",
    "    noised_audio=add_noise(data,random=True)\n",
    "    aud2=extract_features(noised_audio,sr)\n",
    "    audio=np.vstack((audio,aud2))\n",
    "\n",
    "    pitched_audio=pitching(data,sr,random=True)\n",
    "    aud3=extract_features(pitched_audio,sr)\n",
    "    audio=np.vstack((audio,aud3))\n",
    "\n",
    "    pitched_audio1=pitching(data,sr,random=True)\n",
    "    pitched_noised_audio=add_noise(pitched_audio1,random=True)\n",
    "    aud4=extract_features(pitched_noised_audio,sr)\n",
    "    audio=np.vstack((audio,aud4))\n",
    "\n",
    "    return audio"
   ]
  },
  {
   "cell_type": "code",
   "execution_count": 12,
   "outputs": [],
   "source": [
    "X,Y=[],[]\n",
    "for index,row in df.iterrows():\n",
    "    features=get_features(row['path'])\n",
    "    for i in features:\n",
    "        X.append(i)\n",
    "        Y.append(row['emotion'])"
   ],
   "metadata": {
    "collapsed": false,
    "ExecuteTime": {
     "end_time": "2023-08-31T22:19:16.689560700Z",
     "start_time": "2023-08-31T22:04:36.403031900Z"
    }
   }
  },
  {
   "cell_type": "code",
   "execution_count": 13,
   "outputs": [
    {
     "data": {
      "text/plain": "          0         1         2         3         4         5         6  \\\n0  0.173828  0.264648  0.372559  0.486328  0.625488  0.681152  0.720703   \n1  0.243652  0.372070  0.489258  0.497070  0.500977  0.504395  0.502441   \n2  0.264648  0.361328  0.468262  0.407715  0.371094  0.353027  0.346191   \n3  0.254395  0.380371  0.516602  0.506348  0.515137  0.517578  0.506836   \n4  0.247070  0.389648  0.564941  0.642578  0.665527  0.684570  0.676270   \n5  0.259766  0.388672  0.510254  0.503418  0.495605  0.494629  0.499512   \n6  0.216309  0.293457  0.357422  0.329102  0.321289  0.347168  0.400391   \n7  0.248047  0.356934  0.457520  0.467773  0.451660  0.463867  0.477051   \n8  0.183105  0.376953  0.551270  0.642090  0.800781  0.777832  0.801270   \n9  0.245605  0.368164  0.492188  0.490234  0.498535  0.492188  0.498047   \n\n          7         8         9  ...      2367      2368      2369      2370  \\\n0  0.651855  0.562988  0.559082  ...  0.766315  0.755441  0.743671  0.731043   \n1  0.488770  0.493164  0.486328  ... -4.932448 -1.702202 -1.803251 -6.853596   \n2  0.407715  0.463867  0.533203  ...  0.174467  0.171601  0.168493  0.165162   \n3  0.509277  0.498047  0.500488  ...  4.484966 -1.062807 -2.106036 -3.013501   \n4  0.666992  0.648926  0.595703  ...  0.000000  0.000000  0.000000  0.000000   \n5  0.496582  0.501465  0.495117  ...  2.711888 -0.406655 -4.457390 -4.177866   \n6  0.434570  0.438965  0.423340  ...  0.000000  0.000000  0.000000  0.000000   \n7  0.480469  0.459961  0.427246  ...  0.562835  0.059065 -0.114015 -0.413559   \n8  0.789551  0.794922  0.850098  ...  0.000000  0.000000  0.000000  0.000000   \n9  0.501953  0.489258  0.490234  ... -0.377227 -3.642253  1.098809  6.598364   \n\n       2371      2372      2373      2374      2375  Emotion  \n0  0.717561  0.703260  0.688124  0.672208  0.655518  neutral  \n1 -2.475780  6.203646  0.991019 -2.911816 -2.650631  neutral  \n2  0.161605  0.157850  0.153842  0.149646  0.145245  neutral  \n3  4.970066  0.512814 -1.569251 -0.242193 -0.189812  neutral  \n4  0.000000  0.000000  0.000000  0.000000  0.000000  neutral  \n5 -2.269811  0.470799  2.387503  1.531126  1.407382  neutral  \n6  0.000000  0.000000  0.000000  0.000000  0.000000  neutral  \n7 -0.155140  0.521128  0.505862 -0.357632 -0.846701  neutral  \n8  0.000000  0.000000  0.000000  0.000000  0.000000  neutral  \n9  2.503599  5.139227  4.837533  0.395868 -6.032766  neutral  \n\n[10 rows x 2377 columns]",
      "text/html": "<div>\n<style scoped>\n    .dataframe tbody tr th:only-of-type {\n        vertical-align: middle;\n    }\n\n    .dataframe tbody tr th {\n        vertical-align: top;\n    }\n\n    .dataframe thead th {\n        text-align: right;\n    }\n</style>\n<table border=\"1\" class=\"dataframe\">\n  <thead>\n    <tr style=\"text-align: right;\">\n      <th></th>\n      <th>0</th>\n      <th>1</th>\n      <th>2</th>\n      <th>3</th>\n      <th>4</th>\n      <th>5</th>\n      <th>6</th>\n      <th>7</th>\n      <th>8</th>\n      <th>9</th>\n      <th>...</th>\n      <th>2367</th>\n      <th>2368</th>\n      <th>2369</th>\n      <th>2370</th>\n      <th>2371</th>\n      <th>2372</th>\n      <th>2373</th>\n      <th>2374</th>\n      <th>2375</th>\n      <th>Emotion</th>\n    </tr>\n  </thead>\n  <tbody>\n    <tr>\n      <th>0</th>\n      <td>0.173828</td>\n      <td>0.264648</td>\n      <td>0.372559</td>\n      <td>0.486328</td>\n      <td>0.625488</td>\n      <td>0.681152</td>\n      <td>0.720703</td>\n      <td>0.651855</td>\n      <td>0.562988</td>\n      <td>0.559082</td>\n      <td>...</td>\n      <td>0.766315</td>\n      <td>0.755441</td>\n      <td>0.743671</td>\n      <td>0.731043</td>\n      <td>0.717561</td>\n      <td>0.703260</td>\n      <td>0.688124</td>\n      <td>0.672208</td>\n      <td>0.655518</td>\n      <td>neutral</td>\n    </tr>\n    <tr>\n      <th>1</th>\n      <td>0.243652</td>\n      <td>0.372070</td>\n      <td>0.489258</td>\n      <td>0.497070</td>\n      <td>0.500977</td>\n      <td>0.504395</td>\n      <td>0.502441</td>\n      <td>0.488770</td>\n      <td>0.493164</td>\n      <td>0.486328</td>\n      <td>...</td>\n      <td>-4.932448</td>\n      <td>-1.702202</td>\n      <td>-1.803251</td>\n      <td>-6.853596</td>\n      <td>-2.475780</td>\n      <td>6.203646</td>\n      <td>0.991019</td>\n      <td>-2.911816</td>\n      <td>-2.650631</td>\n      <td>neutral</td>\n    </tr>\n    <tr>\n      <th>2</th>\n      <td>0.264648</td>\n      <td>0.361328</td>\n      <td>0.468262</td>\n      <td>0.407715</td>\n      <td>0.371094</td>\n      <td>0.353027</td>\n      <td>0.346191</td>\n      <td>0.407715</td>\n      <td>0.463867</td>\n      <td>0.533203</td>\n      <td>...</td>\n      <td>0.174467</td>\n      <td>0.171601</td>\n      <td>0.168493</td>\n      <td>0.165162</td>\n      <td>0.161605</td>\n      <td>0.157850</td>\n      <td>0.153842</td>\n      <td>0.149646</td>\n      <td>0.145245</td>\n      <td>neutral</td>\n    </tr>\n    <tr>\n      <th>3</th>\n      <td>0.254395</td>\n      <td>0.380371</td>\n      <td>0.516602</td>\n      <td>0.506348</td>\n      <td>0.515137</td>\n      <td>0.517578</td>\n      <td>0.506836</td>\n      <td>0.509277</td>\n      <td>0.498047</td>\n      <td>0.500488</td>\n      <td>...</td>\n      <td>4.484966</td>\n      <td>-1.062807</td>\n      <td>-2.106036</td>\n      <td>-3.013501</td>\n      <td>4.970066</td>\n      <td>0.512814</td>\n      <td>-1.569251</td>\n      <td>-0.242193</td>\n      <td>-0.189812</td>\n      <td>neutral</td>\n    </tr>\n    <tr>\n      <th>4</th>\n      <td>0.247070</td>\n      <td>0.389648</td>\n      <td>0.564941</td>\n      <td>0.642578</td>\n      <td>0.665527</td>\n      <td>0.684570</td>\n      <td>0.676270</td>\n      <td>0.666992</td>\n      <td>0.648926</td>\n      <td>0.595703</td>\n      <td>...</td>\n      <td>0.000000</td>\n      <td>0.000000</td>\n      <td>0.000000</td>\n      <td>0.000000</td>\n      <td>0.000000</td>\n      <td>0.000000</td>\n      <td>0.000000</td>\n      <td>0.000000</td>\n      <td>0.000000</td>\n      <td>neutral</td>\n    </tr>\n    <tr>\n      <th>5</th>\n      <td>0.259766</td>\n      <td>0.388672</td>\n      <td>0.510254</td>\n      <td>0.503418</td>\n      <td>0.495605</td>\n      <td>0.494629</td>\n      <td>0.499512</td>\n      <td>0.496582</td>\n      <td>0.501465</td>\n      <td>0.495117</td>\n      <td>...</td>\n      <td>2.711888</td>\n      <td>-0.406655</td>\n      <td>-4.457390</td>\n      <td>-4.177866</td>\n      <td>-2.269811</td>\n      <td>0.470799</td>\n      <td>2.387503</td>\n      <td>1.531126</td>\n      <td>1.407382</td>\n      <td>neutral</td>\n    </tr>\n    <tr>\n      <th>6</th>\n      <td>0.216309</td>\n      <td>0.293457</td>\n      <td>0.357422</td>\n      <td>0.329102</td>\n      <td>0.321289</td>\n      <td>0.347168</td>\n      <td>0.400391</td>\n      <td>0.434570</td>\n      <td>0.438965</td>\n      <td>0.423340</td>\n      <td>...</td>\n      <td>0.000000</td>\n      <td>0.000000</td>\n      <td>0.000000</td>\n      <td>0.000000</td>\n      <td>0.000000</td>\n      <td>0.000000</td>\n      <td>0.000000</td>\n      <td>0.000000</td>\n      <td>0.000000</td>\n      <td>neutral</td>\n    </tr>\n    <tr>\n      <th>7</th>\n      <td>0.248047</td>\n      <td>0.356934</td>\n      <td>0.457520</td>\n      <td>0.467773</td>\n      <td>0.451660</td>\n      <td>0.463867</td>\n      <td>0.477051</td>\n      <td>0.480469</td>\n      <td>0.459961</td>\n      <td>0.427246</td>\n      <td>...</td>\n      <td>0.562835</td>\n      <td>0.059065</td>\n      <td>-0.114015</td>\n      <td>-0.413559</td>\n      <td>-0.155140</td>\n      <td>0.521128</td>\n      <td>0.505862</td>\n      <td>-0.357632</td>\n      <td>-0.846701</td>\n      <td>neutral</td>\n    </tr>\n    <tr>\n      <th>8</th>\n      <td>0.183105</td>\n      <td>0.376953</td>\n      <td>0.551270</td>\n      <td>0.642090</td>\n      <td>0.800781</td>\n      <td>0.777832</td>\n      <td>0.801270</td>\n      <td>0.789551</td>\n      <td>0.794922</td>\n      <td>0.850098</td>\n      <td>...</td>\n      <td>0.000000</td>\n      <td>0.000000</td>\n      <td>0.000000</td>\n      <td>0.000000</td>\n      <td>0.000000</td>\n      <td>0.000000</td>\n      <td>0.000000</td>\n      <td>0.000000</td>\n      <td>0.000000</td>\n      <td>neutral</td>\n    </tr>\n    <tr>\n      <th>9</th>\n      <td>0.245605</td>\n      <td>0.368164</td>\n      <td>0.492188</td>\n      <td>0.490234</td>\n      <td>0.498535</td>\n      <td>0.492188</td>\n      <td>0.498047</td>\n      <td>0.501953</td>\n      <td>0.489258</td>\n      <td>0.490234</td>\n      <td>...</td>\n      <td>-0.377227</td>\n      <td>-3.642253</td>\n      <td>1.098809</td>\n      <td>6.598364</td>\n      <td>2.503599</td>\n      <td>5.139227</td>\n      <td>4.837533</td>\n      <td>0.395868</td>\n      <td>-6.032766</td>\n      <td>neutral</td>\n    </tr>\n  </tbody>\n</table>\n<p>10 rows × 2377 columns</p>\n</div>"
     },
     "execution_count": 13,
     "metadata": {},
     "output_type": "execute_result"
    }
   ],
   "source": [
    "processed_audios_df=pd.DataFrame(X)\n",
    "processed_audios_df['Emotion']=Y\n",
    "processed_audios_df.head(10)"
   ],
   "metadata": {
    "collapsed": false,
    "ExecuteTime": {
     "end_time": "2023-08-31T22:19:53.069048900Z",
     "start_time": "2023-08-31T22:19:16.704564600Z"
    }
   }
  },
  {
   "cell_type": "code",
   "execution_count": 14,
   "outputs": [],
   "source": [
    "# EXPORT TO CSV\n",
    "processed_audios_df.to_csv('audio.csv', index=False)"
   ],
   "metadata": {
    "collapsed": false,
    "ExecuteTime": {
     "end_time": "2023-08-31T22:21:37.681338100Z",
     "start_time": "2023-08-31T22:19:53.075053300Z"
    }
   }
  },
  {
   "cell_type": "code",
   "execution_count": 15,
   "outputs": [
    {
     "data": {
      "text/plain": "(48648, 2377)"
     },
     "execution_count": 15,
     "metadata": {},
     "output_type": "execute_result"
    }
   ],
   "source": [
    "df=pd.read_csv('audio.csv')\n",
    "df.shape"
   ],
   "metadata": {
    "collapsed": false,
    "ExecuteTime": {
     "end_time": "2023-08-31T22:21:58.990492700Z",
     "start_time": "2023-08-31T22:21:37.682343Z"
    }
   }
  },
  {
   "cell_type": "code",
   "execution_count": 16,
   "outputs": [
    {
     "name": "stdout",
     "output_type": "stream",
     "text": [
      "0          0\n",
      "1          0\n",
      "2          0\n",
      "3          0\n",
      "4          0\n",
      "          ..\n",
      "2372       0\n",
      "2373       0\n",
      "2374       0\n",
      "2375       0\n",
      "Emotion    0\n",
      "Length: 2377, dtype: int64\n"
     ]
    },
    {
     "data": {
      "text/plain": "(48648, 2377)"
     },
     "execution_count": 16,
     "metadata": {},
     "output_type": "execute_result"
    }
   ],
   "source": [
    "df=df.fillna(0)\n",
    "print(df.isna().sum())\n",
    "df.shape"
   ],
   "metadata": {
    "collapsed": false,
    "ExecuteTime": {
     "end_time": "2023-08-31T22:21:59.800035Z",
     "start_time": "2023-08-31T22:21:58.991497800Z"
    }
   }
  },
  {
   "cell_type": "code",
   "execution_count": 17,
   "metadata": {
    "pycharm": {
     "name": "#%%\n"
    },
    "ExecuteTime": {
     "end_time": "2023-08-31T22:21:59.845051800Z",
     "start_time": "2023-08-31T22:21:59.809046400Z"
    }
   },
   "outputs": [
    {
     "data": {
      "text/plain": "Counter({'happy': 7692,\n         'sad': 7692,\n         'angry': 7692,\n         'fear': 7692,\n         'disgust': 7692,\n         'neutral': 7580,\n         'surprise': 2608})"
     },
     "execution_count": 17,
     "metadata": {},
     "output_type": "execute_result"
    }
   ],
   "source": [
    "# check if dataset is balanced\n",
    "Counter(df.loc[:,'Emotion'])"
   ]
  },
  {
   "cell_type": "code",
   "execution_count": 18,
   "outputs": [
    {
     "data": {
      "text/plain": "['label_encoder.pkl']"
     },
     "execution_count": 18,
     "metadata": {},
     "output_type": "execute_result"
    }
   ],
   "source": [
    "x= df.drop('Emotion', axis=1)\n",
    "y=df.loc[ : ,'Emotion']\n",
    "lb= LabelEncoder()\n",
    "y_encoded = lb.fit_transform(y)\n",
    "joblib.dump(lb,'label_encoder.pkl')"
   ],
   "metadata": {
    "collapsed": false,
    "ExecuteTime": {
     "end_time": "2023-08-31T22:22:00.066863200Z",
     "start_time": "2023-08-31T22:21:59.819040800Z"
    }
   }
  },
  {
   "cell_type": "code",
   "execution_count": 19,
   "metadata": {
    "pycharm": {
     "name": "#%%\n"
    },
    "ExecuteTime": {
     "end_time": "2023-08-31T22:22:07.663193100Z",
     "start_time": "2023-08-31T22:22:00.067862600Z"
    }
   },
   "outputs": [
    {
     "data": {
      "text/plain": "Counter({3: 7692, 5: 7692, 0: 7692, 2: 7692, 1: 7692, 6: 7692, 4: 7580})"
     },
     "execution_count": 19,
     "metadata": {},
     "output_type": "execute_result"
    }
   ],
   "source": [
    "smote = SMOTE(sampling_strategy='minority') # use smote technique to bump up our minority class in this case surprise class\n",
    "X1, y = smote.fit_resample(x,y_encoded)\n",
    "Standard_Scaler=StandardScaler()\n",
    "X=Standard_Scaler.fit_transform(X1) # scale our features\n",
    "joblib.dump(Standard_Scaler,'scaler.pkl')\n",
    "Counter(y) # check again if our dataset get balanced"
   ]
  },
  {
   "cell_type": "markdown",
   "source": [
    "# Training models and comparing their performances"
   ],
   "metadata": {
    "collapsed": false
   }
  },
  {
   "cell_type": "code",
   "execution_count": 20,
   "outputs": [
    {
     "data": {
      "text/plain": "((42985, 2376), (10747, 2376), (42985,), (10747,))"
     },
     "execution_count": 20,
     "metadata": {},
     "output_type": "execute_result"
    }
   ],
   "source": [
    "# split data into train and test\n",
    "X_train,X_test,y_train,y_test=train_test_split(X,y,random_state=42,test_size=0.2,shuffle=True)\n",
    "X_train.shape,X_test.shape,y_train.shape,y_test.shape"
   ],
   "metadata": {
    "collapsed": false,
    "ExecuteTime": {
     "end_time": "2023-08-31T22:22:10.620468500Z",
     "start_time": "2023-08-31T22:22:07.665199900Z"
    }
   }
  },
  {
   "cell_type": "code",
   "execution_count": 21,
   "outputs": [
    {
     "data": {
      "text/plain": "((38686, 2376), (10747, 2376), (4299, 2376), (38686,), (10747,), (4299,))"
     },
     "execution_count": 21,
     "metadata": {},
     "output_type": "execute_result"
    }
   ],
   "source": [
    "X_train,X_val,y_train,y_val=train_test_split(X_train,y_train,random_state=42,test_size=0.1,shuffle=True)\n",
    "X_train.shape, X_test.shape, X_val.shape, y_train.shape,y_test.shape,y_val.shape"
   ],
   "metadata": {
    "collapsed": false,
    "ExecuteTime": {
     "end_time": "2023-08-31T22:22:10.843606200Z",
     "start_time": "2023-08-31T22:22:10.623468700Z"
    }
   }
  },
  {
   "cell_type": "code",
   "execution_count": 22,
   "metadata": {
    "pycharm": {
     "name": "#%%\n"
    },
    "ExecuteTime": {
     "end_time": "2023-08-31T22:42:55.674031Z",
     "start_time": "2023-08-31T22:22:10.847606Z"
    }
   },
   "outputs": [
    {
     "data": {
      "text/plain": "SVC(C=10, gamma='auto')",
      "text/html": "<style>#sk-container-id-1 {color: black;background-color: white;}#sk-container-id-1 pre{padding: 0;}#sk-container-id-1 div.sk-toggleable {background-color: white;}#sk-container-id-1 label.sk-toggleable__label {cursor: pointer;display: block;width: 100%;margin-bottom: 0;padding: 0.3em;box-sizing: border-box;text-align: center;}#sk-container-id-1 label.sk-toggleable__label-arrow:before {content: \"▸\";float: left;margin-right: 0.25em;color: #696969;}#sk-container-id-1 label.sk-toggleable__label-arrow:hover:before {color: black;}#sk-container-id-1 div.sk-estimator:hover label.sk-toggleable__label-arrow:before {color: black;}#sk-container-id-1 div.sk-toggleable__content {max-height: 0;max-width: 0;overflow: hidden;text-align: left;background-color: #f0f8ff;}#sk-container-id-1 div.sk-toggleable__content pre {margin: 0.2em;color: black;border-radius: 0.25em;background-color: #f0f8ff;}#sk-container-id-1 input.sk-toggleable__control:checked~div.sk-toggleable__content {max-height: 200px;max-width: 100%;overflow: auto;}#sk-container-id-1 input.sk-toggleable__control:checked~label.sk-toggleable__label-arrow:before {content: \"▾\";}#sk-container-id-1 div.sk-estimator input.sk-toggleable__control:checked~label.sk-toggleable__label {background-color: #d4ebff;}#sk-container-id-1 div.sk-label input.sk-toggleable__control:checked~label.sk-toggleable__label {background-color: #d4ebff;}#sk-container-id-1 input.sk-hidden--visually {border: 0;clip: rect(1px 1px 1px 1px);clip: rect(1px, 1px, 1px, 1px);height: 1px;margin: -1px;overflow: hidden;padding: 0;position: absolute;width: 1px;}#sk-container-id-1 div.sk-estimator {font-family: monospace;background-color: #f0f8ff;border: 1px dotted black;border-radius: 0.25em;box-sizing: border-box;margin-bottom: 0.5em;}#sk-container-id-1 div.sk-estimator:hover {background-color: #d4ebff;}#sk-container-id-1 div.sk-parallel-item::after {content: \"\";width: 100%;border-bottom: 1px solid gray;flex-grow: 1;}#sk-container-id-1 div.sk-label:hover label.sk-toggleable__label {background-color: #d4ebff;}#sk-container-id-1 div.sk-serial::before {content: \"\";position: absolute;border-left: 1px solid gray;box-sizing: border-box;top: 0;bottom: 0;left: 50%;z-index: 0;}#sk-container-id-1 div.sk-serial {display: flex;flex-direction: column;align-items: center;background-color: white;padding-right: 0.2em;padding-left: 0.2em;position: relative;}#sk-container-id-1 div.sk-item {position: relative;z-index: 1;}#sk-container-id-1 div.sk-parallel {display: flex;align-items: stretch;justify-content: center;background-color: white;position: relative;}#sk-container-id-1 div.sk-item::before, #sk-container-id-1 div.sk-parallel-item::before {content: \"\";position: absolute;border-left: 1px solid gray;box-sizing: border-box;top: 0;bottom: 0;left: 50%;z-index: -1;}#sk-container-id-1 div.sk-parallel-item {display: flex;flex-direction: column;z-index: 1;position: relative;background-color: white;}#sk-container-id-1 div.sk-parallel-item:first-child::after {align-self: flex-end;width: 50%;}#sk-container-id-1 div.sk-parallel-item:last-child::after {align-self: flex-start;width: 50%;}#sk-container-id-1 div.sk-parallel-item:only-child::after {width: 0;}#sk-container-id-1 div.sk-dashed-wrapped {border: 1px dashed gray;margin: 0 0.4em 0.5em 0.4em;box-sizing: border-box;padding-bottom: 0.4em;background-color: white;}#sk-container-id-1 div.sk-label label {font-family: monospace;font-weight: bold;display: inline-block;line-height: 1.2em;}#sk-container-id-1 div.sk-label-container {text-align: center;}#sk-container-id-1 div.sk-container {/* jupyter's `normalize.less` sets `[hidden] { display: none; }` but bootstrap.min.css set `[hidden] { display: none !important; }` so we also need the `!important` here to be able to override the default hidden behavior on the sphinx rendered scikit-learn.org. See: https://github.com/scikit-learn/scikit-learn/issues/21755 */display: inline-block !important;position: relative;}#sk-container-id-1 div.sk-text-repr-fallback {display: none;}</style><div id=\"sk-container-id-1\" class=\"sk-top-container\"><div class=\"sk-text-repr-fallback\"><pre>SVC(C=10, gamma=&#x27;auto&#x27;)</pre><b>In a Jupyter environment, please rerun this cell to show the HTML representation or trust the notebook. <br />On GitHub, the HTML representation is unable to render, please try loading this page with nbviewer.org.</b></div><div class=\"sk-container\" hidden><div class=\"sk-item\"><div class=\"sk-estimator sk-toggleable\"><input class=\"sk-toggleable__control sk-hidden--visually\" id=\"sk-estimator-id-1\" type=\"checkbox\" checked><label for=\"sk-estimator-id-1\" class=\"sk-toggleable__label sk-toggleable__label-arrow\">SVC</label><div class=\"sk-toggleable__content\"><pre>SVC(C=10, gamma=&#x27;auto&#x27;)</pre></div></div></div></div></div>"
     },
     "execution_count": 22,
     "metadata": {},
     "output_type": "execute_result"
    }
   ],
   "source": [
    "# Create an SVM classifier\n",
    "svm = SVC(C=10,gamma='auto')\n",
    "'''\n",
    "# Define  hyperparameters grid for the search\n",
    "param_grid = {'kernel': ['linear', 'poly', 'rbf', 'sigmoid'],\n",
    "              'C': [1, 10],\n",
    "              'gamma': ['scale', 'auto']}\n",
    "\n",
    "# Create a GridSearchCV object with 5-fold cross-validation to search for the best hyperparameters\n",
    "grid_search = GridSearchCV(svm, param_grid, cv=5)\n",
    "# Apply the grid search on our data\n",
    "grid_search.fit(x,y)\n",
    "# Redefine the SVM classifier with the parameters obtained from the grid search\n",
    "k=grid_search.best_params_['kernel']\n",
    "g=grid_search.best_params_['gamma']\n",
    "c=grid_search.best_params_['C']\n",
    "svm = SVC(kernel=k,gamma=g,C=c)\n",
    "'''\n",
    "# Apply SVM on the data\n",
    "svm.fit(X_train,y_train)"
   ]
  },
  {
   "cell_type": "code",
   "execution_count": 23,
   "metadata": {
    "pycharm": {
     "name": "#%%\n"
    },
    "ExecuteTime": {
     "end_time": "2023-08-31T22:50:49.725202Z",
     "start_time": "2023-08-31T22:42:55.676041100Z"
    }
   },
   "outputs": [
    {
     "data": {
      "text/plain": "0.8379082534660836"
     },
     "execution_count": 23,
     "metadata": {},
     "output_type": "execute_result"
    }
   ],
   "source": [
    "y_pred = svm.predict(X_test)\n",
    "accuracy= accuracy_score(y_test,y_pred )\n",
    "accuracy"
   ]
  },
  {
   "cell_type": "code",
   "execution_count": 24,
   "metadata": {
    "pycharm": {
     "name": "#%%\n"
    },
    "ExecuteTime": {
     "end_time": "2023-08-31T22:50:49.748722300Z",
     "start_time": "2023-08-31T22:50:49.727187Z"
    }
   },
   "outputs": [
    {
     "data": {
      "text/plain": "    Actual Values Predicted Values\n140      surprise         surprise\n141       disgust          disgust\n142       neutral              sad\n143          fear             fear\n144         angry            happy\n145          fear            happy\n146         angry            angry\n147       disgust          disgust\n148           sad              sad\n149      surprise         surprise",
      "text/html": "<div>\n<style scoped>\n    .dataframe tbody tr th:only-of-type {\n        vertical-align: middle;\n    }\n\n    .dataframe tbody tr th {\n        vertical-align: top;\n    }\n\n    .dataframe thead th {\n        text-align: right;\n    }\n</style>\n<table border=\"1\" class=\"dataframe\">\n  <thead>\n    <tr style=\"text-align: right;\">\n      <th></th>\n      <th>Actual Values</th>\n      <th>Predicted Values</th>\n    </tr>\n  </thead>\n  <tbody>\n    <tr>\n      <th>140</th>\n      <td>surprise</td>\n      <td>surprise</td>\n    </tr>\n    <tr>\n      <th>141</th>\n      <td>disgust</td>\n      <td>disgust</td>\n    </tr>\n    <tr>\n      <th>142</th>\n      <td>neutral</td>\n      <td>sad</td>\n    </tr>\n    <tr>\n      <th>143</th>\n      <td>fear</td>\n      <td>fear</td>\n    </tr>\n    <tr>\n      <th>144</th>\n      <td>angry</td>\n      <td>happy</td>\n    </tr>\n    <tr>\n      <th>145</th>\n      <td>fear</td>\n      <td>happy</td>\n    </tr>\n    <tr>\n      <th>146</th>\n      <td>angry</td>\n      <td>angry</td>\n    </tr>\n    <tr>\n      <th>147</th>\n      <td>disgust</td>\n      <td>disgust</td>\n    </tr>\n    <tr>\n      <th>148</th>\n      <td>sad</td>\n      <td>sad</td>\n    </tr>\n    <tr>\n      <th>149</th>\n      <td>surprise</td>\n      <td>surprise</td>\n    </tr>\n  </tbody>\n</table>\n</div>"
     },
     "execution_count": 24,
     "metadata": {},
     "output_type": "execute_result"
    }
   ],
   "source": [
    "# PREDICTIONS\n",
    "predictions = lb.inverse_transform(y_pred)\n",
    "predictions = pd.DataFrame({'Predicted Values': predictions})\n",
    "\n",
    "# ACTUAL LABELS\n",
    "actual = lb.inverse_transform(y_test)\n",
    "actual = pd.DataFrame({'Actual Values': actual})\n",
    "\n",
    "# COMBINE BOTH\n",
    "final_df = actual.join(predictions)\n",
    "final_df[140:150]"
   ]
  },
  {
   "cell_type": "code",
   "execution_count": 25,
   "metadata": {
    "pycharm": {
     "name": "#%%\n"
    },
    "ExecuteTime": {
     "end_time": "2023-08-31T22:50:50.353804300Z",
     "start_time": "2023-08-31T22:50:49.742209100Z"
    }
   },
   "outputs": [
    {
     "data": {
      "text/plain": "<Figure size 1200x1000 with 2 Axes>",
      "image/png": "[encoded data removed]"
     },
     "metadata": {},
     "output_type": "display_data"
    }
   ],
   "source": [
    "# CREATE CONFUSION MATRIX OF ACTUAL VS. PREDICTION\n",
    "cm = confusion_matrix(y_test, y_pred)\n",
    "plt.figure(figsize = (12, 10))\n",
    "cm = pd.DataFrame(cm , index = [i for i in  lb.classes_ ] , columns = [i for i in lb.classes_ ])\n",
    "sns.heatmap(cm, linecolor='white', cmap='Blues', linewidth=1, annot=True, fmt='')\n",
    "plt.title('Confusion Matrix', size=20)\n",
    "plt.xlabel('Predicted Labels', size=14)\n",
    "plt.ylabel('Actual Labels', size=14)\n",
    "plt.show()"
   ]
  },
  {
   "cell_type": "code",
   "execution_count": 26,
   "outputs": [],
   "source": [
    "from keras.callbacks import EarlyStopping, ReduceLROnPlateau\n",
    "\n",
    "early_stop=EarlyStopping(monitor='val_acc',mode='auto',patience=5,restore_best_weights=True)\n",
    "lr_reduction=ReduceLROnPlateau(monitor='val_acc',patience=3,verbose=1,factor=0.5,min_lr=0.00001)"
   ],
   "metadata": {
    "collapsed": false,
    "ExecuteTime": {
     "end_time": "2023-08-31T22:50:50.367542100Z",
     "start_time": "2023-08-31T22:50:50.354806Z"
    }
   }
  },
  {
   "cell_type": "code",
   "execution_count": 27,
   "metadata": {
    "pycharm": {
     "name": "#%%\n"
    },
    "ExecuteTime": {
     "end_time": "2023-08-31T22:50:50.805722500Z",
     "start_time": "2023-08-31T22:50:50.372541900Z"
    }
   },
   "outputs": [
    {
     "name": "stdout",
     "output_type": "stream",
     "text": [
      "Model: \"sequential\"\n",
      "_________________________________________________________________\n",
      " Layer (type)                Output Shape              Param #   \n",
      "=================================================================\n",
      " conv1d (Conv1D)             (None, 2376, 64)          256       \n",
      "                                                                 \n",
      " conv1d_1 (Conv1D)           (None, 2376, 64)          12352     \n",
      "                                                                 \n",
      " batch_normalization (BatchN  (None, 2376, 64)         256       \n",
      " ormalization)                                                   \n",
      "                                                                 \n",
      " max_pooling1d (MaxPooling1D  (None, 1188, 64)         0         \n",
      " )                                                               \n",
      "                                                                 \n",
      " dropout (Dropout)           (None, 1188, 64)          0         \n",
      "                                                                 \n",
      " conv1d_2 (Conv1D)           (None, 1188, 128)         24704     \n",
      "                                                                 \n",
      " conv1d_3 (Conv1D)           (None, 1188, 128)         49280     \n",
      "                                                                 \n",
      " batch_normalization_1 (Batc  (None, 1188, 128)        512       \n",
      " hNormalization)                                                 \n",
      "                                                                 \n",
      " max_pooling1d_1 (MaxPooling  (None, 594, 128)         0         \n",
      " 1D)                                                             \n",
      "                                                                 \n",
      " dropout_1 (Dropout)         (None, 594, 128)          0         \n",
      "                                                                 \n",
      " conv1d_4 (Conv1D)           (None, 594, 256)          98560     \n",
      "                                                                 \n",
      " conv1d_5 (Conv1D)           (None, 594, 256)          196864    \n",
      "                                                                 \n",
      " batch_normalization_2 (Batc  (None, 594, 256)         1024      \n",
      " hNormalization)                                                 \n",
      "                                                                 \n",
      " max_pooling1d_2 (MaxPooling  (None, 297, 256)         0         \n",
      " 1D)                                                             \n",
      "                                                                 \n",
      " dropout_2 (Dropout)         (None, 297, 256)          0         \n",
      "                                                                 \n",
      " flatten (Flatten)           (None, 76032)             0         \n",
      "                                                                 \n",
      " dense (Dense)               (None, 256)               19464448  \n",
      "                                                                 \n",
      " dropout_3 (Dropout)         (None, 256)               0         \n",
      "                                                                 \n",
      " dense_1 (Dense)             (None, 7)                 1799      \n",
      "                                                                 \n",
      "=================================================================\n",
      "Total params: 19,850,055\n",
      "Trainable params: 19,849,159\n",
      "Non-trainable params: 896\n",
      "_________________________________________________________________\n"
     ]
    }
   ],
   "source": [
    "from keras.regularizers import l2\n",
    "# Define a CNN model\n",
    "model = Sequential()\n",
    "model.add(Conv1D(64, kernel_size=3, padding='same', activation='relu', input_shape=(X_train.shape[1], 1)))\n",
    "model.add(Conv1D(64, kernel_size=3, padding='same', activation='relu', kernel_regularizer=l2(0.01), bias_regularizer=l2(0.01)))\n",
    "model.add(BatchNormalization())\n",
    "model.add(MaxPooling1D(pool_size=2))\n",
    "model.add(Dropout(0.2))\n",
    "\n",
    "model.add(Conv1D(128, kernel_size=3, padding='same', activation='relu'))\n",
    "model.add(Conv1D(128, kernel_size=3, padding='same', activation='relu'))\n",
    "model.add(BatchNormalization())\n",
    "model.add(MaxPooling1D(pool_size=2))\n",
    "model.add(Dropout(0.3))\n",
    "\n",
    "model.add(Conv1D(256, kernel_size=3, padding='same', activation='relu'))\n",
    "model.add(Conv1D(256, kernel_size=3, padding='same', activation='relu'))\n",
    "model.add(BatchNormalization())\n",
    "model.add(MaxPooling1D(pool_size=2))\n",
    "model.add(Dropout(0.4))\n",
    "\n",
    "model.add(Flatten())\n",
    "model.add(Dense(256, activation='relu'))\n",
    "model.add(Dropout(0.5))\n",
    "model.add(Dense(7, activation='softmax'))\n",
    "\n",
    "# Compile the model\n",
    "model.compile(loss='categorical_crossentropy', optimizer='adam', metrics=['accuracy'])\n",
    "model.summary()"
   ]
  },
  {
   "cell_type": "code",
   "execution_count": 28,
   "outputs": [
    {
     "name": "stdout",
     "output_type": "stream",
     "text": [
      "Epoch 1/50\n",
      "142/605 [======>.......................] - ETA: 7:31 - loss: 3.2460 - accuracy: 0.1679"
     ]
    },
    {
     "ename": "KeyboardInterrupt",
     "evalue": "",
     "output_type": "error",
     "traceback": [
      "\u001B[1;31m---------------------------------------------------------------------------\u001B[0m",
      "\u001B[1;31mKeyboardInterrupt\u001B[0m                         Traceback (most recent call last)",
      "Cell \u001B[1;32mIn[28], line 4\u001B[0m\n\u001B[0;32m      2\u001B[0m y_test_encoded \u001B[38;5;241m=\u001B[39m to_categorical(y_test)\n\u001B[0;32m      3\u001B[0m \u001B[38;5;66;03m# Train the model\u001B[39;00m\n\u001B[1;32m----> 4\u001B[0m \u001B[43mmodel\u001B[49m\u001B[38;5;241;43m.\u001B[39;49m\u001B[43mfit\u001B[49m\u001B[43m(\u001B[49m\u001B[43mX_train\u001B[49m\u001B[43m,\u001B[49m\u001B[43m \u001B[49m\u001B[43my_train_encoded\u001B[49m\u001B[43m,\u001B[49m\u001B[43m \u001B[49m\u001B[43mvalidation_data\u001B[49m\u001B[38;5;241;43m=\u001B[39;49m\u001B[43m(\u001B[49m\u001B[43mX_test\u001B[49m\u001B[43m,\u001B[49m\u001B[43m \u001B[49m\u001B[43my_test_encoded\u001B[49m\u001B[43m)\u001B[49m\u001B[43m,\u001B[49m\u001B[43m \u001B[49m\u001B[43mbatch_size\u001B[49m\u001B[38;5;241;43m=\u001B[39;49m\u001B[38;5;241;43m64\u001B[39;49m\u001B[43m,\u001B[49m\u001B[43m \u001B[49m\u001B[43mepochs\u001B[49m\u001B[38;5;241;43m=\u001B[39;49m\u001B[38;5;241;43m50\u001B[39;49m\u001B[43m)\u001B[49m\n",
      "File \u001B[1;32m~\\PycharmProjects\\pythonProjects\\venv\\lib\\site-packages\\keras\\utils\\traceback_utils.py:65\u001B[0m, in \u001B[0;36mfilter_traceback.<locals>.error_handler\u001B[1;34m(*args, **kwargs)\u001B[0m\n\u001B[0;32m     63\u001B[0m filtered_tb \u001B[38;5;241m=\u001B[39m \u001B[38;5;28;01mNone\u001B[39;00m\n\u001B[0;32m     64\u001B[0m \u001B[38;5;28;01mtry\u001B[39;00m:\n\u001B[1;32m---> 65\u001B[0m     \u001B[38;5;28;01mreturn\u001B[39;00m fn(\u001B[38;5;241m*\u001B[39margs, \u001B[38;5;241m*\u001B[39m\u001B[38;5;241m*\u001B[39mkwargs)\n\u001B[0;32m     66\u001B[0m \u001B[38;5;28;01mexcept\u001B[39;00m \u001B[38;5;167;01mException\u001B[39;00m \u001B[38;5;28;01mas\u001B[39;00m e:\n\u001B[0;32m     67\u001B[0m     filtered_tb \u001B[38;5;241m=\u001B[39m _process_traceback_frames(e\u001B[38;5;241m.\u001B[39m__traceback__)\n",
      "File \u001B[1;32m~\\PycharmProjects\\pythonProjects\\venv\\lib\\site-packages\\keras\\engine\\training.py:1685\u001B[0m, in \u001B[0;36mModel.fit\u001B[1;34m(self, x, y, batch_size, epochs, verbose, callbacks, validation_split, validation_data, shuffle, class_weight, sample_weight, initial_epoch, steps_per_epoch, validation_steps, validation_batch_size, validation_freq, max_queue_size, workers, use_multiprocessing)\u001B[0m\n\u001B[0;32m   1677\u001B[0m \u001B[38;5;28;01mwith\u001B[39;00m tf\u001B[38;5;241m.\u001B[39mprofiler\u001B[38;5;241m.\u001B[39mexperimental\u001B[38;5;241m.\u001B[39mTrace(\n\u001B[0;32m   1678\u001B[0m     \u001B[38;5;124m\"\u001B[39m\u001B[38;5;124mtrain\u001B[39m\u001B[38;5;124m\"\u001B[39m,\n\u001B[0;32m   1679\u001B[0m     epoch_num\u001B[38;5;241m=\u001B[39mepoch,\n\u001B[1;32m   (...)\u001B[0m\n\u001B[0;32m   1682\u001B[0m     _r\u001B[38;5;241m=\u001B[39m\u001B[38;5;241m1\u001B[39m,\n\u001B[0;32m   1683\u001B[0m ):\n\u001B[0;32m   1684\u001B[0m     callbacks\u001B[38;5;241m.\u001B[39mon_train_batch_begin(step)\n\u001B[1;32m-> 1685\u001B[0m     tmp_logs \u001B[38;5;241m=\u001B[39m \u001B[38;5;28;43mself\u001B[39;49m\u001B[38;5;241;43m.\u001B[39;49m\u001B[43mtrain_function\u001B[49m\u001B[43m(\u001B[49m\u001B[43miterator\u001B[49m\u001B[43m)\u001B[49m\n\u001B[0;32m   1686\u001B[0m     \u001B[38;5;28;01mif\u001B[39;00m data_handler\u001B[38;5;241m.\u001B[39mshould_sync:\n\u001B[0;32m   1687\u001B[0m         context\u001B[38;5;241m.\u001B[39masync_wait()\n",
      "File \u001B[1;32m~\\PycharmProjects\\pythonProjects\\venv\\lib\\site-packages\\tensorflow\\python\\util\\traceback_utils.py:150\u001B[0m, in \u001B[0;36mfilter_traceback.<locals>.error_handler\u001B[1;34m(*args, **kwargs)\u001B[0m\n\u001B[0;32m    148\u001B[0m filtered_tb \u001B[38;5;241m=\u001B[39m \u001B[38;5;28;01mNone\u001B[39;00m\n\u001B[0;32m    149\u001B[0m \u001B[38;5;28;01mtry\u001B[39;00m:\n\u001B[1;32m--> 150\u001B[0m   \u001B[38;5;28;01mreturn\u001B[39;00m fn(\u001B[38;5;241m*\u001B[39margs, \u001B[38;5;241m*\u001B[39m\u001B[38;5;241m*\u001B[39mkwargs)\n\u001B[0;32m    151\u001B[0m \u001B[38;5;28;01mexcept\u001B[39;00m \u001B[38;5;167;01mException\u001B[39;00m \u001B[38;5;28;01mas\u001B[39;00m e:\n\u001B[0;32m    152\u001B[0m   filtered_tb \u001B[38;5;241m=\u001B[39m _process_traceback_frames(e\u001B[38;5;241m.\u001B[39m__traceback__)\n",
      "File \u001B[1;32m~\\PycharmProjects\\pythonProjects\\venv\\lib\\site-packages\\tensorflow\\python\\eager\\polymorphic_function\\polymorphic_function.py:894\u001B[0m, in \u001B[0;36mFunction.__call__\u001B[1;34m(self, *args, **kwds)\u001B[0m\n\u001B[0;32m    891\u001B[0m compiler \u001B[38;5;241m=\u001B[39m \u001B[38;5;124m\"\u001B[39m\u001B[38;5;124mxla\u001B[39m\u001B[38;5;124m\"\u001B[39m \u001B[38;5;28;01mif\u001B[39;00m \u001B[38;5;28mself\u001B[39m\u001B[38;5;241m.\u001B[39m_jit_compile \u001B[38;5;28;01melse\u001B[39;00m \u001B[38;5;124m\"\u001B[39m\u001B[38;5;124mnonXla\u001B[39m\u001B[38;5;124m\"\u001B[39m\n\u001B[0;32m    893\u001B[0m \u001B[38;5;28;01mwith\u001B[39;00m OptionalXlaContext(\u001B[38;5;28mself\u001B[39m\u001B[38;5;241m.\u001B[39m_jit_compile):\n\u001B[1;32m--> 894\u001B[0m   result \u001B[38;5;241m=\u001B[39m \u001B[38;5;28mself\u001B[39m\u001B[38;5;241m.\u001B[39m_call(\u001B[38;5;241m*\u001B[39margs, \u001B[38;5;241m*\u001B[39m\u001B[38;5;241m*\u001B[39mkwds)\n\u001B[0;32m    896\u001B[0m new_tracing_count \u001B[38;5;241m=\u001B[39m \u001B[38;5;28mself\u001B[39m\u001B[38;5;241m.\u001B[39mexperimental_get_tracing_count()\n\u001B[0;32m    897\u001B[0m without_tracing \u001B[38;5;241m=\u001B[39m (tracing_count \u001B[38;5;241m==\u001B[39m new_tracing_count)\n",
      "File \u001B[1;32m~\\PycharmProjects\\pythonProjects\\venv\\lib\\site-packages\\tensorflow\\python\\eager\\polymorphic_function\\polymorphic_function.py:926\u001B[0m, in \u001B[0;36mFunction._call\u001B[1;34m(self, *args, **kwds)\u001B[0m\n\u001B[0;32m    923\u001B[0m   \u001B[38;5;28mself\u001B[39m\u001B[38;5;241m.\u001B[39m_lock\u001B[38;5;241m.\u001B[39mrelease()\n\u001B[0;32m    924\u001B[0m   \u001B[38;5;66;03m# In this case we have created variables on the first call, so we run the\u001B[39;00m\n\u001B[0;32m    925\u001B[0m   \u001B[38;5;66;03m# defunned version which is guaranteed to never create variables.\u001B[39;00m\n\u001B[1;32m--> 926\u001B[0m   \u001B[38;5;28;01mreturn\u001B[39;00m \u001B[38;5;28mself\u001B[39m\u001B[38;5;241m.\u001B[39m_no_variable_creation_fn(\u001B[38;5;241m*\u001B[39margs, \u001B[38;5;241m*\u001B[39m\u001B[38;5;241m*\u001B[39mkwds)  \u001B[38;5;66;03m# pylint: disable=not-callable\u001B[39;00m\n\u001B[0;32m    927\u001B[0m \u001B[38;5;28;01melif\u001B[39;00m \u001B[38;5;28mself\u001B[39m\u001B[38;5;241m.\u001B[39m_variable_creation_fn \u001B[38;5;129;01mis\u001B[39;00m \u001B[38;5;129;01mnot\u001B[39;00m \u001B[38;5;28;01mNone\u001B[39;00m:\n\u001B[0;32m    928\u001B[0m   \u001B[38;5;66;03m# Release the lock early so that multiple threads can perform the call\u001B[39;00m\n\u001B[0;32m    929\u001B[0m   \u001B[38;5;66;03m# in parallel.\u001B[39;00m\n\u001B[0;32m    930\u001B[0m   \u001B[38;5;28mself\u001B[39m\u001B[38;5;241m.\u001B[39m_lock\u001B[38;5;241m.\u001B[39mrelease()\n",
      "File \u001B[1;32m~\\PycharmProjects\\pythonProjects\\venv\\lib\\site-packages\\tensorflow\\python\\eager\\polymorphic_function\\tracing_compiler.py:143\u001B[0m, in \u001B[0;36mTracingCompiler.__call__\u001B[1;34m(self, *args, **kwargs)\u001B[0m\n\u001B[0;32m    140\u001B[0m \u001B[38;5;28;01mwith\u001B[39;00m \u001B[38;5;28mself\u001B[39m\u001B[38;5;241m.\u001B[39m_lock:\n\u001B[0;32m    141\u001B[0m   (concrete_function,\n\u001B[0;32m    142\u001B[0m    filtered_flat_args) \u001B[38;5;241m=\u001B[39m \u001B[38;5;28mself\u001B[39m\u001B[38;5;241m.\u001B[39m_maybe_define_function(args, kwargs)\n\u001B[1;32m--> 143\u001B[0m \u001B[38;5;28;01mreturn\u001B[39;00m \u001B[43mconcrete_function\u001B[49m\u001B[38;5;241;43m.\u001B[39;49m\u001B[43m_call_flat\u001B[49m\u001B[43m(\u001B[49m\n\u001B[0;32m    144\u001B[0m \u001B[43m    \u001B[49m\u001B[43mfiltered_flat_args\u001B[49m\u001B[43m,\u001B[49m\u001B[43m \u001B[49m\u001B[43mcaptured_inputs\u001B[49m\u001B[38;5;241;43m=\u001B[39;49m\u001B[43mconcrete_function\u001B[49m\u001B[38;5;241;43m.\u001B[39;49m\u001B[43mcaptured_inputs\u001B[49m\u001B[43m)\u001B[49m\n",
      "File \u001B[1;32m~\\PycharmProjects\\pythonProjects\\venv\\lib\\site-packages\\tensorflow\\python\\eager\\polymorphic_function\\monomorphic_function.py:1757\u001B[0m, in \u001B[0;36mConcreteFunction._call_flat\u001B[1;34m(self, args, captured_inputs, cancellation_manager)\u001B[0m\n\u001B[0;32m   1753\u001B[0m possible_gradient_type \u001B[38;5;241m=\u001B[39m gradients_util\u001B[38;5;241m.\u001B[39mPossibleTapeGradientTypes(args)\n\u001B[0;32m   1754\u001B[0m \u001B[38;5;28;01mif\u001B[39;00m (possible_gradient_type \u001B[38;5;241m==\u001B[39m gradients_util\u001B[38;5;241m.\u001B[39mPOSSIBLE_GRADIENT_TYPES_NONE\n\u001B[0;32m   1755\u001B[0m     \u001B[38;5;129;01mand\u001B[39;00m executing_eagerly):\n\u001B[0;32m   1756\u001B[0m   \u001B[38;5;66;03m# No tape is watching; skip to running the function.\u001B[39;00m\n\u001B[1;32m-> 1757\u001B[0m   \u001B[38;5;28;01mreturn\u001B[39;00m \u001B[38;5;28mself\u001B[39m\u001B[38;5;241m.\u001B[39m_build_call_outputs(\u001B[38;5;28;43mself\u001B[39;49m\u001B[38;5;241;43m.\u001B[39;49m\u001B[43m_inference_function\u001B[49m\u001B[38;5;241;43m.\u001B[39;49m\u001B[43mcall\u001B[49m\u001B[43m(\u001B[49m\n\u001B[0;32m   1758\u001B[0m \u001B[43m      \u001B[49m\u001B[43mctx\u001B[49m\u001B[43m,\u001B[49m\u001B[43m \u001B[49m\u001B[43margs\u001B[49m\u001B[43m,\u001B[49m\u001B[43m \u001B[49m\u001B[43mcancellation_manager\u001B[49m\u001B[38;5;241;43m=\u001B[39;49m\u001B[43mcancellation_manager\u001B[49m\u001B[43m)\u001B[49m)\n\u001B[0;32m   1759\u001B[0m forward_backward \u001B[38;5;241m=\u001B[39m \u001B[38;5;28mself\u001B[39m\u001B[38;5;241m.\u001B[39m_select_forward_and_backward_functions(\n\u001B[0;32m   1760\u001B[0m     args,\n\u001B[0;32m   1761\u001B[0m     possible_gradient_type,\n\u001B[0;32m   1762\u001B[0m     executing_eagerly)\n\u001B[0;32m   1763\u001B[0m forward_function, args_with_tangents \u001B[38;5;241m=\u001B[39m forward_backward\u001B[38;5;241m.\u001B[39mforward()\n",
      "File \u001B[1;32m~\\PycharmProjects\\pythonProjects\\venv\\lib\\site-packages\\tensorflow\\python\\eager\\polymorphic_function\\monomorphic_function.py:381\u001B[0m, in \u001B[0;36m_EagerDefinedFunction.call\u001B[1;34m(self, ctx, args, cancellation_manager)\u001B[0m\n\u001B[0;32m    379\u001B[0m \u001B[38;5;28;01mwith\u001B[39;00m _InterpolateFunctionError(\u001B[38;5;28mself\u001B[39m):\n\u001B[0;32m    380\u001B[0m   \u001B[38;5;28;01mif\u001B[39;00m cancellation_manager \u001B[38;5;129;01mis\u001B[39;00m \u001B[38;5;28;01mNone\u001B[39;00m:\n\u001B[1;32m--> 381\u001B[0m     outputs \u001B[38;5;241m=\u001B[39m \u001B[43mexecute\u001B[49m\u001B[38;5;241;43m.\u001B[39;49m\u001B[43mexecute\u001B[49m\u001B[43m(\u001B[49m\n\u001B[0;32m    382\u001B[0m \u001B[43m        \u001B[49m\u001B[38;5;28;43mstr\u001B[39;49m\u001B[43m(\u001B[49m\u001B[38;5;28;43mself\u001B[39;49m\u001B[38;5;241;43m.\u001B[39;49m\u001B[43msignature\u001B[49m\u001B[38;5;241;43m.\u001B[39;49m\u001B[43mname\u001B[49m\u001B[43m)\u001B[49m\u001B[43m,\u001B[49m\n\u001B[0;32m    383\u001B[0m \u001B[43m        \u001B[49m\u001B[43mnum_outputs\u001B[49m\u001B[38;5;241;43m=\u001B[39;49m\u001B[38;5;28;43mself\u001B[39;49m\u001B[38;5;241;43m.\u001B[39;49m\u001B[43m_num_outputs\u001B[49m\u001B[43m,\u001B[49m\n\u001B[0;32m    384\u001B[0m \u001B[43m        \u001B[49m\u001B[43minputs\u001B[49m\u001B[38;5;241;43m=\u001B[39;49m\u001B[43margs\u001B[49m\u001B[43m,\u001B[49m\n\u001B[0;32m    385\u001B[0m \u001B[43m        \u001B[49m\u001B[43mattrs\u001B[49m\u001B[38;5;241;43m=\u001B[39;49m\u001B[43mattrs\u001B[49m\u001B[43m,\u001B[49m\n\u001B[0;32m    386\u001B[0m \u001B[43m        \u001B[49m\u001B[43mctx\u001B[49m\u001B[38;5;241;43m=\u001B[39;49m\u001B[43mctx\u001B[49m\u001B[43m)\u001B[49m\n\u001B[0;32m    387\u001B[0m   \u001B[38;5;28;01melse\u001B[39;00m:\n\u001B[0;32m    388\u001B[0m     outputs \u001B[38;5;241m=\u001B[39m execute\u001B[38;5;241m.\u001B[39mexecute_with_cancellation(\n\u001B[0;32m    389\u001B[0m         \u001B[38;5;28mstr\u001B[39m(\u001B[38;5;28mself\u001B[39m\u001B[38;5;241m.\u001B[39msignature\u001B[38;5;241m.\u001B[39mname),\n\u001B[0;32m    390\u001B[0m         num_outputs\u001B[38;5;241m=\u001B[39m\u001B[38;5;28mself\u001B[39m\u001B[38;5;241m.\u001B[39m_num_outputs,\n\u001B[1;32m   (...)\u001B[0m\n\u001B[0;32m    393\u001B[0m         ctx\u001B[38;5;241m=\u001B[39mctx,\n\u001B[0;32m    394\u001B[0m         cancellation_manager\u001B[38;5;241m=\u001B[39mcancellation_manager)\n",
      "File \u001B[1;32m~\\PycharmProjects\\pythonProjects\\venv\\lib\\site-packages\\tensorflow\\python\\eager\\execute.py:52\u001B[0m, in \u001B[0;36mquick_execute\u001B[1;34m(op_name, num_outputs, inputs, attrs, ctx, name)\u001B[0m\n\u001B[0;32m     50\u001B[0m \u001B[38;5;28;01mtry\u001B[39;00m:\n\u001B[0;32m     51\u001B[0m   ctx\u001B[38;5;241m.\u001B[39mensure_initialized()\n\u001B[1;32m---> 52\u001B[0m   tensors \u001B[38;5;241m=\u001B[39m \u001B[43mpywrap_tfe\u001B[49m\u001B[38;5;241;43m.\u001B[39;49m\u001B[43mTFE_Py_Execute\u001B[49m\u001B[43m(\u001B[49m\u001B[43mctx\u001B[49m\u001B[38;5;241;43m.\u001B[39;49m\u001B[43m_handle\u001B[49m\u001B[43m,\u001B[49m\u001B[43m \u001B[49m\u001B[43mdevice_name\u001B[49m\u001B[43m,\u001B[49m\u001B[43m \u001B[49m\u001B[43mop_name\u001B[49m\u001B[43m,\u001B[49m\n\u001B[0;32m     53\u001B[0m \u001B[43m                                      \u001B[49m\u001B[43minputs\u001B[49m\u001B[43m,\u001B[49m\u001B[43m \u001B[49m\u001B[43mattrs\u001B[49m\u001B[43m,\u001B[49m\u001B[43m \u001B[49m\u001B[43mnum_outputs\u001B[49m\u001B[43m)\u001B[49m\n\u001B[0;32m     54\u001B[0m \u001B[38;5;28;01mexcept\u001B[39;00m core\u001B[38;5;241m.\u001B[39m_NotOkStatusException \u001B[38;5;28;01mas\u001B[39;00m e:\n\u001B[0;32m     55\u001B[0m   \u001B[38;5;28;01mif\u001B[39;00m name \u001B[38;5;129;01mis\u001B[39;00m \u001B[38;5;129;01mnot\u001B[39;00m \u001B[38;5;28;01mNone\u001B[39;00m:\n",
      "\u001B[1;31mKeyboardInterrupt\u001B[0m: "
     ]
    }
   ],
   "source": [
    "y_train_encoded = to_categorical(y_train)\n",
    "y_test_encoded = to_categorical(y_test)\n",
    "# Train the model\n",
    "model.fit(X_train, y_train_encoded, validation_data=(X_test, y_test_encoded), batch_size=64, epochs=50)"
   ],
   "metadata": {
    "collapsed": false,
    "ExecuteTime": {
     "end_time": "2023-08-31T22:53:13.521012900Z",
     "start_time": "2023-08-31T22:50:50.800715500Z"
    }
   }
  },
  {
   "cell_type": "code",
   "execution_count": null,
   "outputs": [],
   "source": [
    "# Evaluate the model\n",
    "eval_model = model.evaluate(X_test, y_test)\n",
    "eval_model # got lower accuracy score than svm"
   ],
   "metadata": {
    "collapsed": false
   }
  },
  {
   "cell_type": "code",
   "execution_count": null,
   "metadata": {
    "pycharm": {
     "name": "#%%\n"
    }
   },
   "outputs": [],
   "source": [
    "# PREDICTIONS\n",
    "y_pred = model.predict(X_test)\n",
    "y_pred=y_pred.argmax(axis=1)\n",
    "predictions = y_pred.astype(int).flatten()\n",
    "predictions = lb.inverse_transform(predictions)\n",
    "predictions = pd.DataFrame({'Predicted Values': predictions})\n",
    "\n",
    "# ACTUAL LABELS\n",
    "actual=y_test\n",
    "actual = lb.inverse_transform(actual)\n",
    "actual = pd.DataFrame({'Actual Values': actual})\n",
    "\n",
    "# COMBINE BOTH\n",
    "final_df = actual.join(predictions)\n",
    "final_df[140:150]"
   ]
  },
  {
   "cell_type": "code",
   "execution_count": null,
   "metadata": {
    "pycharm": {
     "name": "#%%\n"
    }
   },
   "outputs": [],
   "source": [
    "# CREATE CONFUSION MATRIX OF ACTUAL VS PREDICTION\n",
    "cm = confusion_matrix(Y_test, y_pred)\n",
    "plt.figure(figsize = (12, 10))\n",
    "cm = pd.DataFrame(cm , index = [i for i in  lb.classes_ ] , columns = [i for i in lb.classes_ ])\n",
    "sns.heatmap(cm, linecolor='white', cmap='Blues', linewidth=1, annot=True, fmt='')\n",
    "plt.title('Confusion Matrix', size=20)\n",
    "plt.xlabel('Predicted Labels', size=14)\n",
    "plt.ylabel('Actual Labels', size=14)\n",
    "plt.show()"
   ]
  },
  {
   "cell_type": "markdown",
   "source": [
    "# Plot learning curve for both SVM and CNN models"
   ],
   "metadata": {
    "collapsed": false
   }
  },
  {
   "cell_type": "code",
   "execution_count": null,
   "outputs": [],
   "source": [
    "# display learning curve for SVM and CNN models\n",
    "fig, ax = plt.subplots(nrows=1, ncols=2, figsize=(10, 6), sharey=True)\n",
    "train_sizes = np.linspace(0.1, 1.0, 5)\n",
    "cnn_train_scores = []\n",
    "cnn_test_scores = []\n",
    "svm_train_scores = []\n",
    "svm_test_scores = []\n",
    "train_sizes = [ int(train_size * len(X_train)) for train_size in train_sizes]\n",
    "\n",
    "for train_size in train_sizes:\n",
    "  X_train_subset = X_train[:train_size]\n",
    "  y_train_subset = Y_train_encoded[:train_size]\n",
    "  model.fit(X_train, Y_train_encoded, validation_data=(X_test, Y_test_encoded), batch_size=34, epochs=75, verbose=0)\n",
    "  train_score = model.evaluate(X_train_subset, y_train_subset, verbose=0)[1]\n",
    "  test_score = model.evaluate(X_test, Y_test_encoded, verbose=0)[1]\n",
    "  cnn_train_scores.append(train_score)\n",
    "  cnn_test_scores.append(test_score)\n",
    "\n",
    "for train_size in train_sizes:\n",
    "  X_train_subset = X_train[:train_size]\n",
    "  y_train_subset = Y_train[:train_size]\n",
    "  svm.fit(X_train_subset, y_train_subset)\n",
    "  y_train_pred = svm.predict(X_train_subset)\n",
    "  y_test_pred = svm.predict(X_test)\n",
    "  train_score = accuracy_score(y_train_subset,y_train_pred)\n",
    "  test_score = accuracy_score(Y_test, y_test_pred)\n",
    "  svm_train_scores.append(train_score)\n",
    "  svm_test_scores.append(test_score)\n",
    "\n",
    "ax[0].plot(train_sizes, cnn_train_scores, 'o-', label='Training Score')\n",
    "ax[0].plot(train_sizes, cnn_test_scores, 'o-', label='Validation Score')\n",
    "ax[0].set_xlabel('Training Examples')\n",
    "ax[0].set_ylabel('Accuracy')\n",
    "ax[0].set_title('Learning Curve for CNN Classifier')\n",
    "ax[0].legend()\n",
    "ax[0].grid(True)\n",
    "\n",
    "ax[1].plot(train_sizes, svm_train_scores, 'o-', label='Training Score')\n",
    "ax[1].plot(train_sizes, svm_test_scores, 'o-', label='Validation Score')\n",
    "ax[1].set_xlabel('Training Examples')\n",
    "ax[1].set_title('Learning Curve for SVM Classifier')\n",
    "ax[1].legend()\n",
    "ax[1].grid(True)"
   ],
   "metadata": {
    "collapsed": false,
    "pycharm": {
     "name": "#%%\n"
    }
   }
  },
  {
   "cell_type": "markdown",
   "source": [],
   "metadata": {
    "collapsed": false,
    "pycharm": {
     "name": "#%% md\n"
    }
   }
  },
  {
   "cell_type": "code",
   "execution_count": null,
   "metadata": {
    "pycharm": {
     "name": "#%%\n"
    }
   },
   "outputs": [],
   "source": []
  }
 ],
 "metadata": {
  "kernelspec": {
   "display_name": "Python 3 (ipykernel)",
   "language": "python",
   "name": "python3"
  },
  "language_info": {
   "codemirror_mode": {
    "name": "ipython",
    "version": 3
   },
   "file_extension": ".py",
   "mimetype": "text/x-python",
   "name": "python",
   "nbconvert_exporter": "python",
   "pygments_lexer": "ipython3",
   "version": "3.9.10"
  }
 },
 "nbformat": 4,
 "nbformat_minor": 1
}
